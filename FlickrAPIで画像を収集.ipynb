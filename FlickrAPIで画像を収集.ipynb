{
  "nbformat": 4,
  "nbformat_minor": 0,
  "metadata": {
    "colab": {
      "name": "FlickrAPIで画像を収集.ipynb ",
      "provenance": [],
      "collapsed_sections": [],
      "include_colab_link": true
    },
    "kernelspec": {
      "name": "python3",
      "display_name": "Python 3"
    },
    "accelerator": "GPU"
  },
  "cells": [
    {
      "cell_type": "markdown",
      "metadata": {
        "id": "view-in-github",
        "colab_type": "text"
      },
      "source": [
        "<a href=\"https://colab.research.google.com/github/ryujiuno0323/TFL_Maker/blob/master/FlickrAPI%E3%81%A7%E7%94%BB%E5%83%8F%E3%82%92%E5%8F%8E%E9%9B%86.ipynb\" target=\"_parent\"><img src=\"https://colab.research.google.com/assets/colab-badge.svg\" alt=\"Open In Colab\"/></a>"
      ]
    },
    {
      "cell_type": "markdown",
      "metadata": {
        "id": "dlaiXoqE01Y6",
        "colab_type": "text"
      },
      "source": [
        "# 今回したいこと\n",
        "- 画像データをWEB上から集めて、PC上に画像データとして保存する．\n",
        "\n",
        "\n",
        "\n",
        "\n",
        "\n"
      ]
    },
    {
      "cell_type": "markdown",
      "metadata": {
        "id": "c6vBYJDMCbh1",
        "colab_type": "text"
      },
      "source": [
        "# Webから画像を収集する\n",
        "参考<br>\n",
        "https://toyo-interest.com/python/web-application-%E7%AC%AC%EF%BC%93%E5%9B%9E%E3%80%80%E3%81%AF%E3%81%98%E3%82%81%E3%81%A6%E3%81%AEweb%E3%82%A2%E3%83%97%E3%83%AA/\n",
        "\n",
        "http://ykubot.com/2017/11/05/flickr-api/\n",
        "\n",
        "フリッカーの日本語サイト：<br>\n",
        "https://www.flickr.com/groups/japanese/\n",
        "\n",
        "\n",
        "\n",
        "\n",
        "\n",
        "\n",
        "\n",
        "\n",
        "\n",
        "\n",
        "\n",
        "\n"
      ]
    },
    {
      "cell_type": "code",
      "metadata": {
        "colab_type": "code",
        "outputId": "fc803a6b-f4a3-413f-deeb-f672f43318e0",
        "id": "ucExYtxChwO6",
        "colab": {
          "base_uri": "https://localhost:8080/",
          "height": 675
        }
      },
      "source": [
        "# TensorFlowの最新バージョンへ更新\n",
        "!pip install --upgrade tensorflow"
      ],
      "execution_count": 0,
      "outputs": [
        {
          "output_type": "stream",
          "text": [
            "Requirement already up-to-date: tensorflow in /usr/local/lib/python3.6/dist-packages (2.2.0)\n",
            "Requirement already satisfied, skipping upgrade: wheel>=0.26; python_version >= \"3\" in /usr/local/lib/python3.6/dist-packages (from tensorflow) (0.34.2)\n",
            "Requirement already satisfied, skipping upgrade: wrapt>=1.11.1 in /usr/local/lib/python3.6/dist-packages (from tensorflow) (1.12.1)\n",
            "Requirement already satisfied, skipping upgrade: google-pasta>=0.1.8 in /usr/local/lib/python3.6/dist-packages (from tensorflow) (0.2.0)\n",
            "Requirement already satisfied, skipping upgrade: tensorflow-estimator<2.3.0,>=2.2.0 in /usr/local/lib/python3.6/dist-packages (from tensorflow) (2.2.0)\n",
            "Requirement already satisfied, skipping upgrade: absl-py>=0.7.0 in /usr/local/lib/python3.6/dist-packages (from tensorflow) (0.9.0)\n",
            "Requirement already satisfied, skipping upgrade: opt-einsum>=2.3.2 in /usr/local/lib/python3.6/dist-packages (from tensorflow) (3.2.1)\n",
            "Requirement already satisfied, skipping upgrade: h5py<2.11.0,>=2.10.0 in /usr/local/lib/python3.6/dist-packages (from tensorflow) (2.10.0)\n",
            "Requirement already satisfied, skipping upgrade: six>=1.12.0 in /usr/local/lib/python3.6/dist-packages (from tensorflow) (1.12.0)\n",
            "Requirement already satisfied, skipping upgrade: grpcio>=1.8.6 in /usr/local/lib/python3.6/dist-packages (from tensorflow) (1.29.0)\n",
            "Requirement already satisfied, skipping upgrade: scipy==1.4.1; python_version >= \"3\" in /usr/local/lib/python3.6/dist-packages (from tensorflow) (1.4.1)\n",
            "Requirement already satisfied, skipping upgrade: tensorboard<2.3.0,>=2.2.0 in /usr/local/lib/python3.6/dist-packages (from tensorflow) (2.2.2)\n",
            "Requirement already satisfied, skipping upgrade: termcolor>=1.1.0 in /usr/local/lib/python3.6/dist-packages (from tensorflow) (1.1.0)\n",
            "Requirement already satisfied, skipping upgrade: numpy<2.0,>=1.16.0 in /usr/local/lib/python3.6/dist-packages (from tensorflow) (1.18.5)\n",
            "Requirement already satisfied, skipping upgrade: astunparse==1.6.3 in /usr/local/lib/python3.6/dist-packages (from tensorflow) (1.6.3)\n",
            "Requirement already satisfied, skipping upgrade: gast==0.3.3 in /usr/local/lib/python3.6/dist-packages (from tensorflow) (0.3.3)\n",
            "Requirement already satisfied, skipping upgrade: keras-preprocessing>=1.1.0 in /usr/local/lib/python3.6/dist-packages (from tensorflow) (1.1.2)\n",
            "Requirement already satisfied, skipping upgrade: protobuf>=3.8.0 in /usr/local/lib/python3.6/dist-packages (from tensorflow) (3.10.0)\n",
            "Requirement already satisfied, skipping upgrade: google-auth<2,>=1.6.3 in /usr/local/lib/python3.6/dist-packages (from tensorboard<2.3.0,>=2.2.0->tensorflow) (1.7.2)\n",
            "Requirement already satisfied, skipping upgrade: google-auth-oauthlib<0.5,>=0.4.1 in /usr/local/lib/python3.6/dist-packages (from tensorboard<2.3.0,>=2.2.0->tensorflow) (0.4.1)\n",
            "Requirement already satisfied, skipping upgrade: markdown>=2.6.8 in /usr/local/lib/python3.6/dist-packages (from tensorboard<2.3.0,>=2.2.0->tensorflow) (3.2.2)\n",
            "Requirement already satisfied, skipping upgrade: werkzeug>=0.11.15 in /usr/local/lib/python3.6/dist-packages (from tensorboard<2.3.0,>=2.2.0->tensorflow) (1.0.1)\n",
            "Requirement already satisfied, skipping upgrade: requests<3,>=2.21.0 in /usr/local/lib/python3.6/dist-packages (from tensorboard<2.3.0,>=2.2.0->tensorflow) (2.23.0)\n",
            "Requirement already satisfied, skipping upgrade: tensorboard-plugin-wit>=1.6.0 in /usr/local/lib/python3.6/dist-packages (from tensorboard<2.3.0,>=2.2.0->tensorflow) (1.6.0.post3)\n",
            "Requirement already satisfied, skipping upgrade: setuptools>=41.0.0 in /usr/local/lib/python3.6/dist-packages (from tensorboard<2.3.0,>=2.2.0->tensorflow) (47.1.1)\n",
            "Requirement already satisfied, skipping upgrade: pyasn1-modules>=0.2.1 in /usr/local/lib/python3.6/dist-packages (from google-auth<2,>=1.6.3->tensorboard<2.3.0,>=2.2.0->tensorflow) (0.2.8)\n",
            "Requirement already satisfied, skipping upgrade: rsa<4.1,>=3.1.4 in /usr/local/lib/python3.6/dist-packages (from google-auth<2,>=1.6.3->tensorboard<2.3.0,>=2.2.0->tensorflow) (4.0)\n",
            "Requirement already satisfied, skipping upgrade: cachetools<3.2,>=2.0.0 in /usr/local/lib/python3.6/dist-packages (from google-auth<2,>=1.6.3->tensorboard<2.3.0,>=2.2.0->tensorflow) (3.1.1)\n",
            "Requirement already satisfied, skipping upgrade: requests-oauthlib>=0.7.0 in /usr/local/lib/python3.6/dist-packages (from google-auth-oauthlib<0.5,>=0.4.1->tensorboard<2.3.0,>=2.2.0->tensorflow) (1.3.0)\n",
            "Requirement already satisfied, skipping upgrade: importlib-metadata; python_version < \"3.8\" in /usr/local/lib/python3.6/dist-packages (from markdown>=2.6.8->tensorboard<2.3.0,>=2.2.0->tensorflow) (1.6.0)\n",
            "Requirement already satisfied, skipping upgrade: chardet<4,>=3.0.2 in /usr/local/lib/python3.6/dist-packages (from requests<3,>=2.21.0->tensorboard<2.3.0,>=2.2.0->tensorflow) (3.0.4)\n",
            "Requirement already satisfied, skipping upgrade: certifi>=2017.4.17 in /usr/local/lib/python3.6/dist-packages (from requests<3,>=2.21.0->tensorboard<2.3.0,>=2.2.0->tensorflow) (2020.4.5.1)\n",
            "Requirement already satisfied, skipping upgrade: idna<3,>=2.5 in /usr/local/lib/python3.6/dist-packages (from requests<3,>=2.21.0->tensorboard<2.3.0,>=2.2.0->tensorflow) (2.9)\n",
            "Requirement already satisfied, skipping upgrade: urllib3!=1.25.0,!=1.25.1,<1.26,>=1.21.1 in /usr/local/lib/python3.6/dist-packages (from requests<3,>=2.21.0->tensorboard<2.3.0,>=2.2.0->tensorflow) (1.24.3)\n",
            "Requirement already satisfied, skipping upgrade: pyasn1<0.5.0,>=0.4.6 in /usr/local/lib/python3.6/dist-packages (from pyasn1-modules>=0.2.1->google-auth<2,>=1.6.3->tensorboard<2.3.0,>=2.2.0->tensorflow) (0.4.8)\n",
            "Requirement already satisfied, skipping upgrade: oauthlib>=3.0.0 in /usr/local/lib/python3.6/dist-packages (from requests-oauthlib>=0.7.0->google-auth-oauthlib<0.5,>=0.4.1->tensorboard<2.3.0,>=2.2.0->tensorflow) (3.1.0)\n",
            "Requirement already satisfied, skipping upgrade: zipp>=0.5 in /usr/local/lib/python3.6/dist-packages (from importlib-metadata; python_version < \"3.8\"->markdown>=2.6.8->tensorboard<2.3.0,>=2.2.0->tensorflow) (3.1.0)\n"
          ],
          "name": "stdout"
        }
      ]
    },
    {
      "cell_type": "code",
      "metadata": {
        "id": "4FTU9Hkby2W-",
        "colab_type": "code",
        "colab": {}
      },
      "source": [
        "import os\n",
        "import glob\n",
        "import shutil\n",
        "import random\n",
        "\n",
        "from urllib import request as req\n",
        "from urllib import error\n",
        "from urllib import parse\n",
        "import bs4"
      ],
      "execution_count": 0,
      "outputs": []
    },
    {
      "cell_type": "markdown",
      "metadata": {
        "id": "gNnJNNgBVR7n",
        "colab_type": "text"
      },
      "source": [
        "#＜1.データ抽出・保存＞iFlicerAPIでcrawler後Driveにデータ保存"
      ]
    },
    {
      "cell_type": "code",
      "metadata": {
        "id": "peQ_ais6JTc-",
        "colab_type": "code",
        "outputId": "09ba112a-a693-4bce-b460-954c3250325c",
        "colab": {
          "base_uri": "https://localhost:8080/",
          "height": 126
        }
      },
      "source": [
        "from google.colab import drive\n",
        "drive.mount('/content/drive')"
      ],
      "execution_count": 0,
      "outputs": [
        {
          "output_type": "stream",
          "text": [
            "Go to this URL in a browser: https://accounts.google.com/o/oauth2/auth?client_id=947318989803-6bn6qk8qdgf4n4g3pfee6491hc0brc4i.apps.googleusercontent.com&redirect_uri=urn%3aietf%3awg%3aoauth%3a2.0%3aoob&response_type=code&scope=email%20https%3a%2f%2fwww.googleapis.com%2fauth%2fdocs.test%20https%3a%2f%2fwww.googleapis.com%2fauth%2fdrive%20https%3a%2f%2fwww.googleapis.com%2fauth%2fdrive.photos.readonly%20https%3a%2f%2fwww.googleapis.com%2fauth%2fpeopleapi.readonly\n",
            "\n",
            "Enter your authorization code:\n",
            "··········\n",
            "Mounted at /content/drive\n"
          ],
          "name": "stdout"
        }
      ]
    },
    {
      "cell_type": "code",
      "metadata": {
        "id": "Le31QlXS5Eh_",
        "colab_type": "code",
        "outputId": "f20b047e-2027-42f6-f61c-391c81837156",
        "colab": {
          "base_uri": "https://localhost:8080/",
          "height": 52
        }
      },
      "source": [
        "p_temp=os.getcwd()\n",
        "print(p_temp)\n",
        "print(os.listdir(path=p_temp))"
      ],
      "execution_count": 0,
      "outputs": [
        {
          "output_type": "stream",
          "text": [
            "/content\n",
            "['.config', 'drive', 'sample_data']\n"
          ],
          "name": "stdout"
        }
      ]
    },
    {
      "cell_type": "code",
      "metadata": {
        "id": "ZPccG8ACM5k5",
        "colab_type": "code",
        "outputId": "48dd7224-86c0-4b04-fff9-35c984711314",
        "colab": {
          "base_uri": "https://localhost:8080/",
          "height": 284
        }
      },
      "source": [
        "# FlickrAPIのインストール\n",
        "!pip install flickrapi"
      ],
      "execution_count": 0,
      "outputs": [
        {
          "output_type": "stream",
          "text": [
            "Collecting flickrapi\n",
            "  Downloading https://files.pythonhosted.org/packages/76/d7/291b7f0f02cf0f59460f7bcc15192905b4c61e13b9fb9263ee86b0a5f647/flickrapi-2.4.0-py2.py3-none-any.whl\n",
            "Collecting requests-toolbelt>=0.3.1\n",
            "\u001b[?25l  Downloading https://files.pythonhosted.org/packages/60/ef/7681134338fc097acef8d9b2f8abe0458e4d87559c689a8c306d0957ece5/requests_toolbelt-0.9.1-py2.py3-none-any.whl (54kB)\n",
            "\u001b[K     |████████████████████████████████| 61kB 3.1MB/s \n",
            "\u001b[?25hRequirement already satisfied: six>=1.5.2 in /usr/local/lib/python3.6/dist-packages (from flickrapi) (1.12.0)\n",
            "Requirement already satisfied: requests>=2.2.1 in /usr/local/lib/python3.6/dist-packages (from flickrapi) (2.23.0)\n",
            "Requirement already satisfied: requests-oauthlib>=0.4.0 in /usr/local/lib/python3.6/dist-packages (from flickrapi) (1.3.0)\n",
            "Requirement already satisfied: urllib3!=1.25.0,!=1.25.1,<1.26,>=1.21.1 in /usr/local/lib/python3.6/dist-packages (from requests>=2.2.1->flickrapi) (1.24.3)\n",
            "Requirement already satisfied: idna<3,>=2.5 in /usr/local/lib/python3.6/dist-packages (from requests>=2.2.1->flickrapi) (2.9)\n",
            "Requirement already satisfied: chardet<4,>=3.0.2 in /usr/local/lib/python3.6/dist-packages (from requests>=2.2.1->flickrapi) (3.0.4)\n",
            "Requirement already satisfied: certifi>=2017.4.17 in /usr/local/lib/python3.6/dist-packages (from requests>=2.2.1->flickrapi) (2020.4.5.1)\n",
            "Requirement already satisfied: oauthlib>=3.0.0 in /usr/local/lib/python3.6/dist-packages (from requests-oauthlib>=0.4.0->flickrapi) (3.1.0)\n",
            "Installing collected packages: requests-toolbelt, flickrapi\n",
            "Successfully installed flickrapi-2.4.0 requests-toolbelt-0.9.1\n"
          ],
          "name": "stdout"
        }
      ]
    },
    {
      "cell_type": "code",
      "metadata": {
        "id": "teE4wJKUUy6z",
        "colab_type": "code",
        "outputId": "31f22228-0f62-499c-e059-ce7996dbded3",
        "colab": {
          "base_uri": "https://localhost:8080/",
          "height": 124
        }
      },
      "source": [
        "pip install retry"
      ],
      "execution_count": 0,
      "outputs": [
        {
          "output_type": "stream",
          "text": [
            "Collecting retry\n",
            "  Downloading https://files.pythonhosted.org/packages/4b/0d/53aea75710af4528a25ed6837d71d117602b01946b307a3912cb3cfcbcba/retry-0.9.2-py2.py3-none-any.whl\n",
            "Requirement already satisfied: py<2.0.0,>=1.4.26 in /usr/local/lib/python3.6/dist-packages (from retry) (1.8.1)\n",
            "Requirement already satisfied: decorator>=3.4.2 in /usr/local/lib/python3.6/dist-packages (from retry) (4.4.2)\n",
            "Installing collected packages: retry\n",
            "Successfully installed retry-0.9.2\n"
          ],
          "name": "stdout"
        }
      ]
    },
    {
      "cell_type": "markdown",
      "metadata": {
        "id": "dnLOSTHR500H",
        "colab_type": "text"
      },
      "source": [
        ""
      ]
    },
    {
      "cell_type": "markdown",
      "metadata": {
        "colab_type": "text",
        "id": "u5XZu80tFiY3"
      },
      "source": [
        "#FlicerAPIでのicrawler保存先\n"
      ]
    },
    {
      "cell_type": "code",
      "metadata": {
        "id": "f-e2LeBc4pHA",
        "colab_type": "code",
        "outputId": "9909fd22-a2c9-4fa3-c1ad-284df3689b40",
        "colab": {
          "base_uri": "https://localhost:8080/",
          "height": 52
        }
      },
      "source": [
        "    #①icrawler 保存先path\n",
        "    #path_app=\"/content/drive/My Drive/aiapp/\"\n",
        "    path_app=\"/content/drive/My Drive/aiapp/\"\n",
        "\n",
        "    #original_dir=path_app+\"☆_data_0☆/\"\n",
        "    path_original = path_app+\"class_3_clover_data_07/\"\n",
        "    #path_original = path_app+\"class_3_Flicer_data_01/\"\n",
        "    original_dir = path_original\n",
        "    print (\"original_dir=path_original=\")\n",
        "    print (original_dir)"
      ],
      "execution_count": 0,
      "outputs": [
        {
          "output_type": "stream",
          "text": [
            "original_dir=path_original=\n",
            "/content/drive/My Drive/aiapp/class_3_clover_data_07/\n"
          ],
          "name": "stdout"
        }
      ]
    },
    {
      "cell_type": "markdown",
      "metadata": {
        "id": "SSpgDUS-4hZc",
        "colab_type": "text"
      },
      "source": [
        "## 手順\n",
        "主な手順としては、以下のようになります．\n",
        "\n",
        "- step 1\n",
        "  - FlickrのAPIを使って欲しい画像のタグ（dogとかcatとか）とURLを取得して、リスト化する\n",
        "- step 2\n",
        "  - リストのURLに従い、**urlretrieve**を使ってダウンロードしていく\n",
        "  \n",
        "  "
      ]
    },
    {
      "cell_type": "code",
      "metadata": {
        "id": "gefhJ9JVKny2",
        "colab_type": "code",
        "outputId": "c57eb53e-7d54-45e4-d90a-245961a2ee1d",
        "colab": {
          "base_uri": "https://localhost:8080/",
          "height": 51
        }
      },
      "source": [
        "\"\"\"\n",
        "# 必要なライブラリのインポート\n",
        "import os, time, sys, math\n",
        "from flickrapi import FlickrAPI\n",
        "from urllib.request import urlretrieve\n",
        "import shutil\n",
        "\n",
        "# APIキーの情報\n",
        "#flickr_api_key = \"f7e70239910909ab634b165235675395\"\n",
        "key = \"f7e70239910909ab634b165235675395\"\n",
        "#secret_key = \"5a8e19991c97f17e\"\n",
        "secret = \"5a8e19991c97f17e\"\n",
        "wait_time = 0.5 # 待ち時間（0.5秒おきにDLを行う）\n",
        "\n",
        "#--------- INPUT -------------------------------------------\n",
        "# ダウンロードしたい名前をclassesに記述\n",
        "classes = [\"four_leaf_clover\", \"three_leaf_clover\",\"autumn_leaves\"]\n",
        "#classes = [\"three_leaf_clover\",\"autumn_leaves\"]\n",
        "\n",
        "#classes = [\"autumn_leaves\"]\n",
        "#classes = [\"cheetah\", \"tiger\", \"leopard\", \"lynx\", \"lion\",\\\n",
        "#           \"jaguar\", \"white tiger\", \"cat\"]\n",
        "# DLしたい枚数\n",
        "per_page = 500\n",
        "#-----------------------------------------------------------\n",
        "\n",
        "# 枚数によって場合分け\n",
        "if per_page < 500:\n",
        "    per_page = per_page\n",
        "    n_page = 1\n",
        "else:\n",
        "    n_page = math.floor(per_page/500) + 1\n",
        "    per_page = math.floor(per_page / n_page)\n",
        "\n",
        "\n",
        "nb_class = len(classes) #クラス数取得\n",
        "print(\"classes=\",nb_class)\n",
        "\n",
        "\n",
        "#os.mkdir(\"./images\")\n",
        "#%cd ./images\n",
        "\n",
        "# 保存フォルダの作成：\n",
        "for i in range(nb_class):\n",
        "    dir_name = classes[i] \n",
        "    # 指定した名前のフォルダを作成する\n",
        "    #dirpath = \"./\" + dir_name\n",
        "    dirpath = original_dir  + dir_name\n",
        "    #os.mkdir(dirpath)\n",
        "    os.makedirs(dirpath, exist_ok=True)\n",
        "    print(dirpath)\n",
        "\n",
        "#-----------------------------------------\n",
        "# per_data：DLしたい枚数\n",
        "# safe_serch：1が安全らしい\n",
        "# extras：url_qとライセンス情報（おそらくこれで十分）\n",
        "#-----------------------------------------\n",
        "    \n",
        "    flickr = FlickrAPI(key, secret, format=\"parsed-json\")\n",
        "    for i in range(n_page):\n",
        "        response = flickr.photos.search(\n",
        "            text = dir_name,\n",
        "            per_page = per_page,\n",
        "            page = i + 1,\n",
        "            media = \"photos\",\n",
        "            sort = \"relevance\", # 関連純\n",
        "            safe_search = 1,\n",
        "            extras = \"url_q, licence\"\n",
        "            )\n",
        "\n",
        "        photos = response[\"photos\"] # \n",
        "#-----------------------------------------\n",
        "# ここまでで今からダウンロードするファイルの情報（id、URLなど）を取得してリスト化\n",
        "# リストに従い、urlretrieveで1つずつ指定フォルダにダウンロードしていく\n",
        "# urlretrieve(\"ダウンロードしたいものがあるURL\", \"保存先\")\n",
        "#\n",
        "# 画像によってurl_qがない場合にエラーが発生して止まってしまうので、その場合は無視して次の画像に進むようにしている\n",
        "#-----------------------------------------\n",
        "\n",
        "        for i, photo in enumerate(photos[\"photo\"]):\n",
        "            try:\n",
        "                url_q = photo[\"url_q\"]\n",
        "                filepath = dirpath + \"/\" + photo[\"id\"] + \".jpg\"\n",
        "                if os.path.exists(filepath): continue\n",
        "                urlretrieve(url_q, filepath)\n",
        "                time.sleep(wait_time)\n",
        "            except:\n",
        "                continue\n"
      ],
      "execution_count": 0,
      "outputs": [
        {
          "output_type": "stream",
          "text": [
            "classes= 3\n",
            "/content/drive/My Drive/aiapp/class_3_clover_data_07/four_leaf_clover\n"
          ],
          "name": "stdout"
        }
      ]
    },
    {
      "cell_type": "code",
      "metadata": {
        "id": "2CBs2SV1u5jG",
        "colab_type": "code",
        "outputId": "93e4844a-1d8c-489a-ed3c-f8321708cab3",
        "colab": {
          "base_uri": "https://localhost:8080/",
          "height": 35
        }
      },
      "source": [
        "\n",
        "classes = [\"four_leaf_clover\", \"three_leaf_clover\",\"autumn_leaves\"]\n",
        "nb_class = len(classes) #クラス数取得\n",
        "print(\"classes=\",nb_class)\n"
      ],
      "execution_count": 0,
      "outputs": [
        {
          "output_type": "stream",
          "text": [
            "classes= 3\n"
          ],
          "name": "stdout"
        }
      ]
    },
    {
      "cell_type": "markdown",
      "metadata": {
        "id": "f9DexTejig21",
        "colab_type": "text"
      },
      "source": [
        ""
      ]
    },
    {
      "cell_type": "code",
      "metadata": {
        "id": "TpllNVPUaIVw",
        "colab_type": "code",
        "outputId": "43354cb7-bd8d-4cd8-d852-1b6963cbbd1c",
        "colab": {
          "base_uri": "https://localhost:8080/",
          "height": 197
        }
      },
      "source": [
        "# 保存フォルダの内容確認：\n",
        "\n",
        "\n",
        "for i in range(nb_class):\n",
        "    dir_name = classes[i] \n",
        "    # 指定した名前のフォルダを作成する\n",
        "    #dirpath = \"./\" + dir_name\n",
        "    dirpath = original_dir  + dir_name\n",
        "    #os.mkdir(dirpath)\n",
        "    #os.makedirs(dirpath, exist_ok=True)\n",
        "    #print(dirpath)\n",
        "\n",
        "    path = dirpath\n",
        "    print(path)\n",
        "    files = os.listdir(path)  #ファイル名とディレクトリ名の両方のリストが返る\n",
        "    count = len(files)  \n",
        "    print(count)\n",
        "    print(files)  "
      ],
      "execution_count": 0,
      "outputs": [
        {
          "output_type": "stream",
          "text": [
            "/content/drive/My Drive/aiapp/class_3_clover_data_07/four_leaf_clover\n",
            "459\n",
            "['000001.jpg', '000002.jpg', '000003.jpg', '000004.jpg', '000005.jpg', '000006.jpg', '000007.jpg', '000008.jpg', '000009.jpg', '000010.jpg', '000011.jpg', '000012.jpg', '000013.jpg', '000014.jpg', '000015.jpg', '000016.jpg', '000017.jpg', '000018.jpg', '000019.jpg', '000020.jpg', '000021.jpg', '000022.jpg', '000023.jpg', '000024.jpg', '000025.jpg', '000026.jpg', '000027.jpg', '000028.jpg', '000029.jpg', '000030.jpg', '000031.jpg', '000032.jpg', '000033.jpg', '000034.jpg', '000035.jpg', '000036.jpg', '000037.jpg', '000038.jpg', '000039.jpg', '000040.jpg', '000041.jpg', '000042.jpg', '000043.jpg', '000044.jpg', '000045.jpg', '000046.jpg', '000047.jpg', '000048.jpg', '000049.jpg', '000050.jpg', '000051.jpg', '000052.jpg', '000053.jpg', '000054.jpg', '000055.jpg', '000056.jpg', '000057.jpg', '000058.jpg', '000059.jpg', '000060.jpg', '000061.jpg', '000062.jpg', '000063.jpg', '000064.jpg', '000065.jpg', '000066.jpg', '000067.jpg', '000068.jpg', '000069.jpg', '000070.jpg', '000071.jpg', '000072.jpg', '000073.jpg', '000074.jpg', '000075.jpg', '000076.jpg', '000077.jpg', '000078.jpg', '000079.jpg', '000080.jpg', '000081.jpg', '000082.jpg', '000083.jpg', '000084.jpg', '000085.jpg', '000086.jpg', '000087.jpg', '000088.jpg', '000089.jpg', '000090.jpg', '000091.jpg', '000092.jpg', '000093.jpg', '000094.jpg', '000095.jpg', '000096.jpg', '000097.jpg', '000099.jpg', '000100.jpg', '000101.jpg', '000102.jpg', '000103.jpg', '000104.jpg', '000105.jpg', '000106.jpg', '000107.jpg', '000108.jpg', '000109.jpg', '000110.jpg', '000111.jpg', '000112.jpg', '000113.jpg', '000114.jpg', '000115.jpg', '000116.jpg', '000117.jpg', '000118.jpg', '000119.jpg', '000120.jpg', '000121.jpg', '000122.jpg', '000123.jpg', '000124.jpg', '000125.jpg', '000126.jpg', '000127.jpg', '000128.jpg', '000130.jpg', '000131.jpg', '000132.jpg', '000133.jpg', '000134.jpg', '000135.jpg', '000137.jpg', '000138.jpg', '000139.jpg', '000140.jpg', '000142.jpg', '000143.jpg', '000145.jpg', '000146.jpg', '000147.jpg', '000148.jpg', '000149.jpg', '000150.jpg', '000151.jpg', '000152.jpg', '000153.jpg', '000154.jpg', '000155.jpg', '000156.jpg', '000157.jpg', '000158.jpg', '000160.jpg', '000161.jpg', '000167.jpg', '000168.jpg', '000169.jpg', '000171.jpg', '000172.jpg', '000173.jpg', '000174.jpg', '000175.jpg', '000176.jpg', '000177.jpg', '000178.jpg', '000179.jpg', '000180.jpg', '000181.jpg', '000182.jpg', '000183.jpg', '000184.jpg', '000185.jpg', '000186.jpg', '000187.jpg', '000188.jpg', '000189.jpg', '000190.jpg', '000191.jpg', '000192.jpg', '000193.jpg', '000194.jpg', '000195.jpg', '000196.jpg', '000197.jpg', '000198.jpg', '000199.jpg', '000200.jpg', '000201.jpg', '000202.jpg', '000203.jpg', '000204.jpg', '000205.jpg', '000206.jpg', '000207.jpg', '000208.jpg', '000209.jpg', '000210.jpg', '000211.jpg', '000212.jpg', '000213.jpg', '000214.jpg', '000215.jpg', '000216.jpg', '000217.jpg', '000218.jpg', '000219.jpg', '000220.jpg', '000221.jpg', '000222.jpg', '000223.jpg', '000224.jpg', '000225.jpg', '000226.jpg', '000227.jpg', '000228.jpg', '000229.jpg', '000230.jpg', '000231.jpg', '000232.jpg', '000233.jpg', '000234.jpg', '000235.jpg', '000236.jpg', '000237.jpg', '000238.jpg', '000239.jpg', '000240.jpg', '000241.jpg', '000242.jpg', '000243.jpg', '000244.jpg', '000245.jpg', '000247.jpg', '000248.jpg', '000249.jpg', '000250.jpg', '000251.jpg', '000252.jpg', '000254.jpg', '000255.jpg', '000256.jpg', '6937427843.jpg', '5554315023.jpg', '3863329583.jpg', '5860168861.jpg', '5480264363.jpg', '26944537792.jpg', '3872019702.jpg', '174058251.jpg', '4648506136.jpg', '5554314991.jpg', '185354612.jpg', '1305068585.jpg', '2584995722.jpg', '11756802086.jpg', '1305952314.jpg', '188358526.jpg', '5648227144.jpg', '4360933343.jpg', '2436892523.jpg', '6787622483.jpg', '5678023386.jpg', '4403299666.jpg', '4911799299.jpg', '188358439.jpg', '8690124481.jpg', '3977614094.jpg', '358724177.jpg', '7108378255.jpg', '6010883142.jpg', '6010882940.jpg', '8612976163.jpg', '141875598.jpg', '30575547380.jpg', '2857243567.jpg', '49854517852.jpg', '5533492393.jpg', '48173814242.jpg', '5554898962.jpg', '7046640011.jpg', '17171532623.jpg', '17493534999.jpg', '2340715595.jpg', '2709858253.jpg', '47981169452.jpg', '2341441496.jpg', '3669762351.jpg', '26949019195.jpg', '37849099866.jpg', '49083322128.jpg', '5677464999.jpg', '28137649.jpg', '2584921333.jpg', '23509477396.jpg', '6119851697.jpg', '6120376012.jpg', '6119821741.jpg', '6119814883.jpg', '49612040172.jpg', '6120381742.jpg', '22223484968.jpg', '35459470505.jpg', '8284135952.jpg', '41994121922.jpg', '18670423624.jpg', '49896159867.jpg', '4017017271.jpg', '2606867311.jpg', '40636910051.jpg', '4747452994.jpg', '7282336296.jpg', '15207083070.jpg', '11098655.jpg', '2443773919.jpg', '49952828403.jpg', '2443774589.jpg', '3361365403.jpg', '2889276084.jpg', '3426787734.jpg', '6004349187.jpg', '17156253092.jpg', '46608448284.jpg', '49698520833.jpg', '49791609296.jpg', '441877924.jpg', '44502381414.jpg', '14427486918.jpg', '3575359099.jpg', '2678359760.jpg', '27117018640.jpg', '4735312746.jpg', '32697613723.jpg', '27377874227.jpg', '29107480358.jpg', '27559071777.jpg', '43010322334.jpg', '5774349822.jpg', '42343159555.jpg', '8456521417.jpg', '8565567836.jpg', '49860129658.jpg', '10976776026.jpg', '3661020593.jpg', '441877960.jpg', '538907268 (1).jpg', '4236069472.jpg', '2822506556.jpg', '3626438446.jpg', '26785109114.jpg', '49939864216.jpg', '25166307924.jpg', '1472151605.jpg', '14658178458.jpg', '24727990447.jpg', '2522866838.jpg', '5072463837.jpg', '10379089696.jpg', '13956545901.jpg', '36636762966.jpg', '3740069853.jpg', '4971779626.jpg', '4141606256.jpg', '5205139079.jpg', '2357920669.jpg', '2139404219.jpg', '3555531984.jpg', '121554361.jpg', '3279615462.jpg', '6221579382.jpg', '47931759031.jpg', '15416160890.jpg', '3576168066.jpg', '40420604280.jpg', '3363183451.jpg', '3554724005.jpg', '9119448743.jpg', '28731823676.jpg', '7535440048.jpg', '6023560116.jpg', '2935854325.jpg', '47981215326.jpg', '3803239053.jpg', '49516364838.jpg', '6054619.jpg', '5695867956.jpg', '8207378691.jpg', '5695271339.jpg', '4527857154.jpg', '1823293769.jpg', '81367.jpg', '34503737671.jpg', '47966942692.jpg', '30184597293.jpg', '9489310962.jpg', '44651940991.jpg', '22840653380.jpg', '7217047980.jpg', '3616092177.jpg', '2513979669.jpg', '14017231705.jpg', '14338892101.jpg', '25170179953.jpg', '29544494950.jpg', '8219418579.jpg', '46991400445.jpg', '9121668058.jpg', '48244171096.jpg', '30572532.jpg', '2307171653.jpg', '2309219246.jpg', '13970800925.jpg', '19244608175.jpg', '6884837799.jpg', '2724759569.jpg', '9502031426.jpg', '22252845756.jpg', '17362508725.jpg', '16724124146.jpg', '41347242515.jpg', '3530991400.jpg', '23516950040.jpg', '49885011027.jpg', '37743328876.jpg', '538907268.jpg', '2407249113.jpg', '5735754394.jpg', '5533678016.jpg', '29016425956.jpg', '5795789142.jpg', '3172669467.jpg', '216847425.jpg', '16416991061.jpg', '28722405641.jpg', '27655244397.jpg', '40449998453.jpg', '1305952480.jpg', '23543003611.jpg', '49852701281.jpg', '29255719758.jpg', '25736129472.jpg', '31695931893.jpg', '33812488228.jpg', '4252846906.jpg', '1120370380.jpg', '27445348227.jpg', '28474515457.jpg', '27300134516.jpg', '3497180646.jpg', '49382951672.jpg', '47943254248.jpg', '29680603544.jpg', '32357653132.jpg', '7483580368.jpg', '34501774874.jpg', '44672462160.jpg', '42025155055.jpg', '49679785163.jpg', '24630985873.jpg']\n",
            "/content/drive/My Drive/aiapp/class_3_clover_data_07/three_leaf_clover\n",
            "352\n",
            "['000501.jpg', '000502.jpg', '000503.jpg', '000504.jpg', '000505.jpg', '000506.jpg', '000507.jpg', '000508.jpg', '000509.jpg', '000510.jpg', '000511.jpg', '000512.jpg', '000513.jpg', '000514.jpg', '000515.jpg', '000516.jpg', '000517.jpg', '000518.jpg', '000519.jpg', '000520.jpg', '000521.jpg', '000522.jpg', '000523.jpg', '000524.jpg', '000525.jpg', '000526.jpg', '000527.jpg', '000528.jpg', '000529.jpg', '000530.jpg', '000534.jpg', '000537.jpg', '000531.jpg のコピー', '000517.jpg のコピー', '000513.jpg のコピー (1)', '000535.jpg ', '000533.jpg ', '000532.jpg ', '000001 (1).jpg', '000002 (1).jpg', '000003 (1).jpg', '000004 (1).jpg', '000005 (1).jpg', '000006 (1).jpg', '000007 (1).jpg', '000009 (1).jpg', '000012 (1).jpg', '000001.jpg', '000002.jpg', '000003.jpg', '000004.jpg', '000005.jpg', '000006.jpg', '000007.jpg', '000008.jpg', '000009.jpg', '000010.jpg', '000011.jpg', '000012.jpg', '000013.jpg', '000019.jpg', '000022.jpg', '000024.jpg', '000027.jpg', '000028.jpg', '000029.jpg', '000030.jpg', '000034.jpg', '000036.jpg', '000038.jpg', '000039.jpg', '000041.jpg', '000043.jpg', '000045.jpg', '000047.jpg', '000048.jpg', '000049.jpg', '000052.jpg', '000054.jpg', '000058.jpg', '000059.jpg', '000070.jpg', '000071.jpg', '000073.jpg', '000074.jpg', '000078.jpg', '000081.jpg', '000083.jpg', '000088.jpg', '000089.jpg', '000090.jpg', '000091.jpg', '000096.jpg', '000099.jpg', '000100.jpg', '000101.jpg', '000108.jpg', '000109.jpg', '000113.jpg', '000037.jpg', '000033.jpg', '000031.jpg', '000018.jpg', '000044.jpg', '000016.jpg', '000014.jpg', '000050.jpg', '000021.jpg', '000015.jpg', '000040.jpg', '000032.jpg', '000035.jpg', '000020.jpg', '000026.jpg', '000051.jpg', '000042.jpg', '000023.jpg', '000046.jpg', '000017.jpg', '000055.jpg', '000057.jpg', '000062.jpg', '000025.jpg', '000053.jpg', '000064.jpg', '000067.jpg', '000065.jpg', '000066.jpg', '000056.jpg', '000068.jpg', '000063.jpg', '000060.jpg', '000061.jpg', '000069.jpg', '000072.jpg', '000075.jpg', '000076.jpg', '000077.jpg', '000079.jpg', '000080.jpg', '000082.jpg', '000084.jpg', '000085.jpg', '000086.jpg', '000087.jpg', '000092.jpg', '000093.jpg', '000094.jpg', '000095.jpg', '000097.jpg', '000098.jpg', '000103.jpg', '000102.jpg', '000104.jpg', '000112.jpg', '000107.jpg', '000105.jpg', '000106.jpg', '000110.jpg', '000111.jpg', '000116.jpg', '000115.jpg', '000117.jpg', '000114.jpg', '000506.jpg のコピー', '000505.jpg のコピー', '000501.jpg のコピー', '000503.jpg のコピー', '000504.jpg のコピー', '000502.jpg のコピー', '000507.jpg のコピー', '000509.jpg のコピー', '000514.jpg のコピー', '000508.jpg のコピー', '000510.jpg のコピー', '000512.jpg のコピー', '000513.jpg のコピー', '000513.jpg のコピー のコピー', '000511.jpg のコピー', '000515.jpg のコピー', '39729345792.jpg', '2235729655.jpg', '3575928800.jpg', '9818033125.jpg', '309543778.jpg', '16328012654.jpg', '2226566163.jpg', '218751266.jpg', '4049427902.jpg', '6845969986.jpg', '4304900218.jpg', '2491455673.jpg', '49637448602.jpg', '4912583359.jpg', '5306391620.jpg', '32652428224.jpg', '15309803131.jpg', '3845726141.jpg', '7222720186.jpg', '2934060733.jpg', '1345329279.jpg', '2873533097.jpg', '5851200862.jpg', '6822330935.jpg', '444503069.jpg', '4048709485.jpg', '8722039581.jpg', '5111826912.jpg', '1346239674.jpg', '2108893519.jpg', '14562797009.jpg', '228158727.jpg', '5800013083.jpg', '58691465.jpg', '2439893549.jpg', '6053943304.jpg', '3477731196.jpg', '1345329191.jpg', '3980109338.jpg', '247942685.jpg', '2741848310.jpg', '472541192.jpg', '6187685090.jpg', '4524745686.jpg', '7047857139.jpg', '2968703372.jpg', '4863969543.jpg', '4863969125.jpg', '4938790522.jpg', '5796786754.jpg', '5073128686.jpg', '23956275906.jpg', '4478314181.jpg', '4439082848.jpg', '4906124279.jpg', '5032023004.jpg', '6857609402.jpg', '3504226552.jpg', '61407352.jpg', '28315729786.jpg', '19133477131.jpg', '4843145069.jpg', '4843145497.jpg', '2586697225.jpg', '7133211219.jpg', '4370037366.jpg', '4843759556.jpg', '15532269843.jpg', '3125332854.jpg', '5338024430.jpg', '5489348874.jpg', '7437857920.jpg', '37195423890.jpg', '5482676021.jpg', '4937647346.jpg', '2589104468.jpg', '33652595980.jpg', '6552561617.jpg', '7649221324.jpg', '16509495547.jpg', '174517895.jpg', '6164888224.jpg', '3212186344.jpg', '3362289017.jpg', '3761693975.jpg', '4864450089.jpg', '7657424758.jpg', '2492800962.jpg', '49820116211.jpg', '49820423032.jpg', '6954717353.jpg', '5437901137.jpg', '4028274006.jpg', '40959569621.jpg', '6552562703.jpg', '6552563657.jpg', '6101616667.jpg', '8626869077.jpg', '14778912983.jpg', '6552560383.jpg', '5536969058.jpg', '10035278336.jpg', '5920374373.jpg', '5204265119.jpg', '8667044125.jpg', '685732773.jpg', '2545186135.jpg', '4706936418.jpg', '2501427978.jpg', '443054214.jpg', '26441906395.jpg', '29517702577.jpg', '10954884645.jpg', '4845273929.jpg', '92985949.jpg', '6258797347.jpg', '2502843674.jpg', '3350240059.jpg', '5180672998.jpg', '4152549961.jpg', '3361954675.jpg', '27420197986.jpg', '6391257313.jpg', '2585977139.jpg', '3618792616.jpg', '2315775978.jpg', '5821445573.jpg', '4521758353.jpg', '4442024531.jpg', '2370834027.jpg', '14543127627.jpg', '2332905712.jpg', '13432847765.jpg', '3775251271.jpg', '5626146853.jpg', '6844042516.jpg', '43860896942.jpg', '18215150533.jpg', '31636098.jpg', '1111258092.jpg', '3011680220.jpg', '8512064269.jpg', '10208346045.jpg', '3278250550.jpg', '513894214.jpg', '6696851223.jpg', '10215360094.jpg', '4691743.jpg', '3277415103.jpg', '4740565939.jpg', '2485422248.jpg', '10834531926.jpg', '3249714801.jpg', '2334843659.jpg', '3249714869.jpg', '2527844966.jpg', '8564986830.jpg', '10828801664.jpg', '8168450446.jpg', '3820315858.jpg', '4441619541.jpg', '5515023213.jpg', '4602376303.jpg', '4772220353.jpg', '4836611967.jpg', '41263923624.jpg', '7213412144.jpg', '3449583688.jpg', '3255288703.jpg', '3782916163.jpg', '32596782632.jpg', '2716320573.jpg']\n",
            "/content/drive/My Drive/aiapp/class_3_clover_data_07/autumn_leaves\n",
            "346\n",
            "['30347156732.jpg', '30336609135.jpg', '34862636455.jpg', '29734206324.jpg', '30903676417.jpg', '49138561792.jpg', '31008212975.jpg', '24405215588.jpg', '36740804844.jpg', '45048041252.jpg', '49163392082.jpg', '8053562458.jpg', '25391930169.jpg', '37473952084.jpg', '23003154232.jpg', '31169116467.jpg', '44644501114.jpg', '10450055375.jpg', '30586090926.jpg', '15193381951.jpg', '23192280615.jpg', '48995953952.jpg', '37498310446.jpg', '37493366394.jpg', '8179099120.jpg', '6308628511.jpg', '5152981744.jpg', '44303635270.jpg', '10450081774.jpg', '49439196951.jpg', '21873149719.jpg', '30599970077.jpg', '4367278939.jpg', '15589321695.jpg', '38517314581.jpg', '15598865678.jpg', '37656001575.jpg', '48942822186.jpg', '11526242334.jpg', '22646353445.jpg', '8179082421.jpg', '3106206746.jpg', '24645914488.jpg', '24905629430.jpg', '49045411712.jpg', '22256636074.jpg', '31140864486.jpg', '4982657163.jpg', '39579225440.jpg', '49028562961.jpg', '22488851947.jpg', '9463388360.jpg', '45571455491.jpg', '6826988645.jpg', '2951491322.jpg', '29830400750.jpg', '44979074914.jpg', '45500027352.jpg', '30488958165.jpg', '3053800552.jpg', '3121922389.jpg', '26970835809.jpg', '44749571164.jpg', '12315069135.jpg', '46315407745.jpg', '49126698343.jpg', '15447253228.jpg', '30063481357.jpg', '22034205589.jpg', '24034830388.jpg', '37604366014.jpg', '26437361710.jpg', '37633403340.jpg', '29796194634.jpg', '22230115704.jpg', '49036208277.jpg', '38770457291.jpg', '30826823136.jpg', '21873164859.jpg', '22002298690.jpg', '22443524976.jpg', '6215354630.jpg', '22142768865.jpg', '6158907793.jpg', '22618626012.jpg', '8169555161.jpg', '10408913113.jpg', '37629789090.jpg', '45592517401.jpg', '3053797672.jpg', '37939003565.jpg', '44111937800.jpg', '37391853565.jpg', '7162550126.jpg', '24486061138.jpg', '29890452240.jpg', '31098171436.jpg', '30932596545.jpg', '26755935372.jpg', '6379531369.jpg', '49079712473.jpg', '17386261770.jpg', '48991671746.jpg', '6205698958.jpg', '49148743492.jpg', '22486842739.jpg', '8086483461.jpg', '48833354952.jpg', '9290226714.jpg', '30741197785.jpg', '8112721686.jpg', '15452182635.jpg', '38800484191.jpg', '24928084438.jpg', '25295563259.jpg', '39715790662.jpg', '6225973344.jpg', '39025951741.jpg', '30728764917.jpg', '6710523169.jpg', '30313840481.jpg', '38131093966.jpg', '15515555238.jpg', '22861769920.jpg', '29845807874.jpg', '136132086.jpg', '30485594385.jpg', '45701893732.jpg', '22372732417.jpg', '2908203758.jpg', '48879862541.jpg', '30083468254.jpg', '16626597342.jpg', '10841680985.jpg', '49152229921.jpg', '49020973091.jpg', '48866742066.jpg', '45422757374.jpg', '31012544397.jpg', '31334890866.jpg', '48962153901.jpg', '436484909.jpg', '9852204955.jpg', '49185962023.jpg', '37847003102.jpg', '37316688200.jpg', '15849305186.jpg', '12944536355.jpg', '4050440789.jpg', '6349222786.jpg', '33731627990.jpg', '12944932374.jpg', '49008588031.jpg', '4037048773.jpg', '31278134845.jpg', '30034343074.jpg', '49026130588.jpg', '30785552292.jpg', '8086481564.jpg', '30887535557.jpg', '10747046436.jpg', '30816644282.jpg', '8086483203.jpg', '49008056288.jpg', '49008797862.jpg', '8745956547.jpg', '22786366496.jpg', '31104271908.jpg', '7000896706.jpg', '6279495459.jpg', '3023517947.jpg', '31994956428.jpg', '22844898369.jpg', '9709471409.jpg', '67691552.jpg', '30126215760.jpg', '7995502031.jpg', '3097240708.jpg', '6396369883.jpg', '49111780733.jpg', '23531189045.jpg', '31068927565.jpg', '361152760.jpg', '15699042471.jpg', '2887806426.jpg', '45464855035.jpg', '48766291438.jpg', '6710525363.jpg', '8397137811.jpg', '4143688687.jpg', '31926839378.jpg', '8175422851.jpg', '30923614526.jpg', '29933615393.jpg', '49272737298.jpg', '6237251889.jpg', '15383448278.jpg', '6291699698.jpg', '49021083776.jpg', '49005301702.jpg', '10405452525.jpg', '49043782047.jpg', '25243818438.jpg', '6710520959.jpg', '6123566813.jpg', '6826990963.jpg', '6300036617.jpg', '3052950075.jpg', '43834984370.jpg', '4017069514.jpg', '36451638554.jpg', '7169828044.jpg', '15762893987.jpg', '37848871832.jpg', '11053609685.jpg', '4091574958.jpg', '1672803335.jpg', '6278634870.jpg', '8209734870.jpg', '6826988021.jpg', '6710518855.jpg', '5020833734.jpg', '3052955763.jpg', '48882598487.jpg', '23973054478.jpg', '31774708918.jpg', '49034677312.jpg', '16709594062.jpg', '47939960152.jpg', '6125897816.jpg', '16523238150.jpg', '8125360671.jpg', '30892841497.jpg', '3052947459.jpg', '2929786734.jpg', '48903739783.jpg', '37615135781.jpg', '32110624508.jpg', '43618495120.jpg', '22736742783.jpg', '27963772741.jpg', '12944640183.jpg', '23545434116.jpg', '15343368707.jpg', '49434827261.jpg', '5131603653.jpg', '6710527739.jpg', '4148972009.jpg', '49037684843.jpg', '7009247733.jpg', '12944933014.jpg', '31774709228.jpg', '16717149881.jpg', '31821434758.jpg', '3349501813.jpg', '49138399442.jpg', '15633264907.jpg', '4170630993.jpg', '49783192221.jpg', '8096464451.jpg', '8102913615.jpg', '15861002868.jpg', '49078715358.jpg', '7207256332.jpg', '22407864571.jpg', '48975828417.jpg', '16352575455.jpg', '31340472715.jpg', '5118192272.jpg', '5432623567.jpg', '27055649349.jpg', '47091224654.jpg', '140488019.jpg', '22141984621.jpg', '22814907041.jpg', '26695299679.jpg', '4071641674.jpg', '49127065768.jpg', '44854724104.jpg', '6125884632.jpg', '49062395273.jpg', '12944933604.jpg', '12944940304.jpg', '15774273771.jpg', '4073346455.jpg', '29996790166.jpg', '5529180755.jpg', '8265332784.jpg', '12944939344.jpg', '12944648293.jpg', '22550681166.jpg', '11027779393.jpg', '49228656751.jpg', '6282369563.jpg', '4143690571.jpg', '15094009397.jpg', '12944934494.jpg', '8170806559.jpg', '8103668762.jpg', '2965005831.jpg', '12944647363.jpg', '12944530655.jpg', '5890214545.jpg', '6165355532.jpg', '38019963351.jpg', '6076883393.jpg', '22452222827.jpg', '43828871240.jpg', '4683125393.jpg', '12944650613.jpg', '10564123754.jpg', '12944647743.jpg', '8056571033.jpg', '48726098137.jpg', '8225663495.jpg', '4823170595.jpg', '4036881037.jpg', '12944935524.jpg', '4478726700.jpg', '8265340182.jpg', '6282390356.jpg', '6253942862.jpg', '10109063056.jpg', '4054896629.jpg', '2985074492.jpg', '6220712487.jpg', '3898404111.jpg', '12944644283.jpg', '12944531055.jpg', '4056077520.jpg', '8132979014.jpg', '7976416807.jpg', '3147529052.jpg', '6963023143.jpg', '6376044721.jpg', '4048703351.jpg', '27616957124.jpg', '4406186455.jpg', '12944940634.jpg', '7624608018.jpg', '5090449166.jpg', '15677198256.jpg', '29812580074.jpg', '7053122437.jpg', '6220714551.jpg', '10337903025.jpg']\n"
          ],
          "name": "stdout"
        }
      ]
    },
    {
      "cell_type": "code",
      "metadata": {
        "id": "LS06SYPunIDN",
        "colab_type": "code",
        "outputId": "6bf28a39-2845-4d91-e5b1-50ce23efe5da",
        "colab": {
          "base_uri": "https://localhost:8080/",
          "height": 51
        }
      },
      "source": [
        "p_temp= original_dir\n",
        "print(p_temp)\n",
        "print(os.listdir(path=p_temp))"
      ],
      "execution_count": 0,
      "outputs": [
        {
          "output_type": "stream",
          "text": [
            "/content/drive/My Drive/aiapp/class_3_clover_data_07/\n",
            "['four_leaf_clover', 'three_leaf_clover', 'autumn_leaves']\n"
          ],
          "name": "stdout"
        }
      ]
    },
    {
      "cell_type": "markdown",
      "metadata": {
        "id": "HW5SiYWAiisY",
        "colab_type": "text"
      },
      "source": [
        ""
      ]
    },
    {
      "cell_type": "markdown",
      "metadata": {
        "colab_type": "text",
        "id": "m6qxcMYPMwc5"
      },
      "source": [
        "#ファイル連番振り直し"
      ]
    },
    {
      "cell_type": "markdown",
      "metadata": {
        "colab_type": "text",
        "id": "sGUdCXqGi_sc"
      },
      "source": [
        "#ファイルの読込フォルダと書込みフォルダ\n"
      ]
    },
    {
      "cell_type": "code",
      "metadata": {
        "id": "RVwKl6SODdQi",
        "colab_type": "code",
        "colab": {}
      },
      "source": [
        ""
      ],
      "execution_count": 0,
      "outputs": []
    },
    {
      "cell_type": "code",
      "metadata": {
        "colab_type": "code",
        "outputId": "e5c8e904-098d-4971-cea6-6408bc0c3be2",
        "id": "vRyNBWQSjW4j",
        "colab": {
          "base_uri": "https://localhost:8080/",
          "height": 52
        }
      },
      "source": [
        "    #①icrawler 保存先path\n",
        "    #path_app=\"/content/drive/My Drive/aiapp/\"\n",
        "    path_app=\"/content/drive/My Drive/aiapp/\"\n",
        "\n",
        "    #original_dir=path_app+\"☆_data_0☆/\"\n",
        "    path_original = path_app+\"class_3_clover_data_0☆/\"\n",
        "    #path_original = path_app+\"class_3_Flicer_data_01/\"\n",
        "    original_dir = path_original\n",
        "    print (\"original_dir=path_original=\")\n",
        "    print (original_dir)"
      ],
      "execution_count": 0,
      "outputs": [
        {
          "output_type": "stream",
          "text": [
            "original_dir=path_original=\n",
            "/content/drive/My Drive/aiapp/class_3_clover_data_04/\n"
          ],
          "name": "stdout"
        }
      ]
    },
    {
      "cell_type": "code",
      "metadata": {
        "id": "ogosP18D29UH",
        "colab_type": "code",
        "outputId": "0f89475d-c538-41c4-9d09-11b393110f2a",
        "colab": {
          "base_uri": "https://localhost:8080/",
          "height": 1000
        }
      },
      "source": [
        "\n",
        "# 連番リネーム 500番以降に振りなおす\n",
        "import glob, os # --- (*1)\n",
        "# ファイル列挙 --- (*2)\n",
        "\n",
        "#data_dir='/content/drive/My Drive/aiapp/class_3_clover_data_03/four_leaf_clover/'\n",
        "#data_dir='/content/drive/My Drive/aiapp/class_3_clover_data_03/three_leaf_clover/'\n",
        "data_dir='/content/drive/My Drive/aiapp/class_3_clover_data_03/autumn_leaves/'\n",
        "\n",
        "files = glob.glob(data_dir+\"*.jpg\")\n",
        "# 繰り返しリネーム --- (*3)\n",
        "i = 1\n",
        "for old_name in files:\n",
        "    # 数値を6桁(000001)形式にそろえる --- (*4)\n",
        "    zero_i = \"{0:06d}\".format(i)\n",
        "    # ファイル名を作る\n",
        "    new_name = data_dir+zero_i + \".jpg\"\n",
        "    # 改名する --- (*5)\n",
        "    os.rename(old_name, new_name)\n",
        "    # 状況を報告\n",
        "    print(old_name + \"→\" + new_name)\n",
        "    # 連番のため数値を加算 --- (*6)\n",
        "    i += 1\n"
      ],
      "execution_count": 0,
      "outputs": [
        {
          "output_type": "stream",
          "text": [
            "/content/drive/My Drive/aiapp/class_3_clover_data_03/autumn_leaves/000001.jpg→/content/drive/My Drive/aiapp/class_3_clover_data_03/autumn_leaves/000001.jpg\n",
            "/content/drive/My Drive/aiapp/class_3_clover_data_03/autumn_leaves/000002.jpg→/content/drive/My Drive/aiapp/class_3_clover_data_03/autumn_leaves/000002.jpg\n",
            "/content/drive/My Drive/aiapp/class_3_clover_data_03/autumn_leaves/000003.jpg→/content/drive/My Drive/aiapp/class_3_clover_data_03/autumn_leaves/000003.jpg\n",
            "/content/drive/My Drive/aiapp/class_3_clover_data_03/autumn_leaves/000004.jpg→/content/drive/My Drive/aiapp/class_3_clover_data_03/autumn_leaves/000004.jpg\n",
            "/content/drive/My Drive/aiapp/class_3_clover_data_03/autumn_leaves/000005.jpg→/content/drive/My Drive/aiapp/class_3_clover_data_03/autumn_leaves/000005.jpg\n",
            "/content/drive/My Drive/aiapp/class_3_clover_data_03/autumn_leaves/000006.jpg→/content/drive/My Drive/aiapp/class_3_clover_data_03/autumn_leaves/000006.jpg\n",
            "/content/drive/My Drive/aiapp/class_3_clover_data_03/autumn_leaves/000007.jpg→/content/drive/My Drive/aiapp/class_3_clover_data_03/autumn_leaves/000007.jpg\n",
            "/content/drive/My Drive/aiapp/class_3_clover_data_03/autumn_leaves/000008.jpg→/content/drive/My Drive/aiapp/class_3_clover_data_03/autumn_leaves/000008.jpg\n",
            "/content/drive/My Drive/aiapp/class_3_clover_data_03/autumn_leaves/000009.jpg→/content/drive/My Drive/aiapp/class_3_clover_data_03/autumn_leaves/000009.jpg\n",
            "/content/drive/My Drive/aiapp/class_3_clover_data_03/autumn_leaves/000010.jpg→/content/drive/My Drive/aiapp/class_3_clover_data_03/autumn_leaves/000010.jpg\n",
            "/content/drive/My Drive/aiapp/class_3_clover_data_03/autumn_leaves/000011.jpg→/content/drive/My Drive/aiapp/class_3_clover_data_03/autumn_leaves/000011.jpg\n",
            "/content/drive/My Drive/aiapp/class_3_clover_data_03/autumn_leaves/000012.jpg→/content/drive/My Drive/aiapp/class_3_clover_data_03/autumn_leaves/000012.jpg\n",
            "/content/drive/My Drive/aiapp/class_3_clover_data_03/autumn_leaves/000013.jpg→/content/drive/My Drive/aiapp/class_3_clover_data_03/autumn_leaves/000013.jpg\n",
            "/content/drive/My Drive/aiapp/class_3_clover_data_03/autumn_leaves/000014.jpg→/content/drive/My Drive/aiapp/class_3_clover_data_03/autumn_leaves/000014.jpg\n",
            "/content/drive/My Drive/aiapp/class_3_clover_data_03/autumn_leaves/000015.jpg→/content/drive/My Drive/aiapp/class_3_clover_data_03/autumn_leaves/000015.jpg\n",
            "/content/drive/My Drive/aiapp/class_3_clover_data_03/autumn_leaves/000016.jpg→/content/drive/My Drive/aiapp/class_3_clover_data_03/autumn_leaves/000016.jpg\n",
            "/content/drive/My Drive/aiapp/class_3_clover_data_03/autumn_leaves/000017.jpg→/content/drive/My Drive/aiapp/class_3_clover_data_03/autumn_leaves/000017.jpg\n",
            "/content/drive/My Drive/aiapp/class_3_clover_data_03/autumn_leaves/000018.jpg→/content/drive/My Drive/aiapp/class_3_clover_data_03/autumn_leaves/000018.jpg\n",
            "/content/drive/My Drive/aiapp/class_3_clover_data_03/autumn_leaves/000019.jpg→/content/drive/My Drive/aiapp/class_3_clover_data_03/autumn_leaves/000019.jpg\n",
            "/content/drive/My Drive/aiapp/class_3_clover_data_03/autumn_leaves/000020.jpg→/content/drive/My Drive/aiapp/class_3_clover_data_03/autumn_leaves/000020.jpg\n",
            "/content/drive/My Drive/aiapp/class_3_clover_data_03/autumn_leaves/000021.jpg→/content/drive/My Drive/aiapp/class_3_clover_data_03/autumn_leaves/000021.jpg\n",
            "/content/drive/My Drive/aiapp/class_3_clover_data_03/autumn_leaves/000022.jpg→/content/drive/My Drive/aiapp/class_3_clover_data_03/autumn_leaves/000022.jpg\n",
            "/content/drive/My Drive/aiapp/class_3_clover_data_03/autumn_leaves/000023.jpg→/content/drive/My Drive/aiapp/class_3_clover_data_03/autumn_leaves/000023.jpg\n",
            "/content/drive/My Drive/aiapp/class_3_clover_data_03/autumn_leaves/000024.jpg→/content/drive/My Drive/aiapp/class_3_clover_data_03/autumn_leaves/000024.jpg\n",
            "/content/drive/My Drive/aiapp/class_3_clover_data_03/autumn_leaves/000025.jpg→/content/drive/My Drive/aiapp/class_3_clover_data_03/autumn_leaves/000025.jpg\n",
            "/content/drive/My Drive/aiapp/class_3_clover_data_03/autumn_leaves/000026.jpg→/content/drive/My Drive/aiapp/class_3_clover_data_03/autumn_leaves/000026.jpg\n",
            "/content/drive/My Drive/aiapp/class_3_clover_data_03/autumn_leaves/000027.jpg→/content/drive/My Drive/aiapp/class_3_clover_data_03/autumn_leaves/000027.jpg\n",
            "/content/drive/My Drive/aiapp/class_3_clover_data_03/autumn_leaves/000028.jpg→/content/drive/My Drive/aiapp/class_3_clover_data_03/autumn_leaves/000028.jpg\n",
            "/content/drive/My Drive/aiapp/class_3_clover_data_03/autumn_leaves/000029.jpg→/content/drive/My Drive/aiapp/class_3_clover_data_03/autumn_leaves/000029.jpg\n",
            "/content/drive/My Drive/aiapp/class_3_clover_data_03/autumn_leaves/000030.jpg→/content/drive/My Drive/aiapp/class_3_clover_data_03/autumn_leaves/000030.jpg\n",
            "/content/drive/My Drive/aiapp/class_3_clover_data_03/autumn_leaves/000031.jpg→/content/drive/My Drive/aiapp/class_3_clover_data_03/autumn_leaves/000031.jpg\n",
            "/content/drive/My Drive/aiapp/class_3_clover_data_03/autumn_leaves/000032.jpg→/content/drive/My Drive/aiapp/class_3_clover_data_03/autumn_leaves/000032.jpg\n",
            "/content/drive/My Drive/aiapp/class_3_clover_data_03/autumn_leaves/000033.jpg→/content/drive/My Drive/aiapp/class_3_clover_data_03/autumn_leaves/000033.jpg\n",
            "/content/drive/My Drive/aiapp/class_3_clover_data_03/autumn_leaves/000034.jpg→/content/drive/My Drive/aiapp/class_3_clover_data_03/autumn_leaves/000034.jpg\n",
            "/content/drive/My Drive/aiapp/class_3_clover_data_03/autumn_leaves/000035.jpg→/content/drive/My Drive/aiapp/class_3_clover_data_03/autumn_leaves/000035.jpg\n",
            "/content/drive/My Drive/aiapp/class_3_clover_data_03/autumn_leaves/000036.jpg→/content/drive/My Drive/aiapp/class_3_clover_data_03/autumn_leaves/000036.jpg\n",
            "/content/drive/My Drive/aiapp/class_3_clover_data_03/autumn_leaves/000037.jpg→/content/drive/My Drive/aiapp/class_3_clover_data_03/autumn_leaves/000037.jpg\n",
            "/content/drive/My Drive/aiapp/class_3_clover_data_03/autumn_leaves/000038.jpg→/content/drive/My Drive/aiapp/class_3_clover_data_03/autumn_leaves/000038.jpg\n",
            "/content/drive/My Drive/aiapp/class_3_clover_data_03/autumn_leaves/000039.jpg→/content/drive/My Drive/aiapp/class_3_clover_data_03/autumn_leaves/000039.jpg\n",
            "/content/drive/My Drive/aiapp/class_3_clover_data_03/autumn_leaves/000040.jpg→/content/drive/My Drive/aiapp/class_3_clover_data_03/autumn_leaves/000040.jpg\n",
            "/content/drive/My Drive/aiapp/class_3_clover_data_03/autumn_leaves/000041.jpg→/content/drive/My Drive/aiapp/class_3_clover_data_03/autumn_leaves/000041.jpg\n",
            "/content/drive/My Drive/aiapp/class_3_clover_data_03/autumn_leaves/000042.jpg→/content/drive/My Drive/aiapp/class_3_clover_data_03/autumn_leaves/000042.jpg\n",
            "/content/drive/My Drive/aiapp/class_3_clover_data_03/autumn_leaves/000043.jpg→/content/drive/My Drive/aiapp/class_3_clover_data_03/autumn_leaves/000043.jpg\n",
            "/content/drive/My Drive/aiapp/class_3_clover_data_03/autumn_leaves/000044.jpg→/content/drive/My Drive/aiapp/class_3_clover_data_03/autumn_leaves/000044.jpg\n",
            "/content/drive/My Drive/aiapp/class_3_clover_data_03/autumn_leaves/000045.jpg→/content/drive/My Drive/aiapp/class_3_clover_data_03/autumn_leaves/000045.jpg\n",
            "/content/drive/My Drive/aiapp/class_3_clover_data_03/autumn_leaves/000046.jpg→/content/drive/My Drive/aiapp/class_3_clover_data_03/autumn_leaves/000046.jpg\n",
            "/content/drive/My Drive/aiapp/class_3_clover_data_03/autumn_leaves/000047.jpg→/content/drive/My Drive/aiapp/class_3_clover_data_03/autumn_leaves/000047.jpg\n",
            "/content/drive/My Drive/aiapp/class_3_clover_data_03/autumn_leaves/000048.jpg→/content/drive/My Drive/aiapp/class_3_clover_data_03/autumn_leaves/000048.jpg\n",
            "/content/drive/My Drive/aiapp/class_3_clover_data_03/autumn_leaves/000049.jpg→/content/drive/My Drive/aiapp/class_3_clover_data_03/autumn_leaves/000049.jpg\n",
            "/content/drive/My Drive/aiapp/class_3_clover_data_03/autumn_leaves/000050.jpg→/content/drive/My Drive/aiapp/class_3_clover_data_03/autumn_leaves/000050.jpg\n",
            "/content/drive/My Drive/aiapp/class_3_clover_data_03/autumn_leaves/000051.jpg→/content/drive/My Drive/aiapp/class_3_clover_data_03/autumn_leaves/000051.jpg\n",
            "/content/drive/My Drive/aiapp/class_3_clover_data_03/autumn_leaves/000052.jpg→/content/drive/My Drive/aiapp/class_3_clover_data_03/autumn_leaves/000052.jpg\n",
            "/content/drive/My Drive/aiapp/class_3_clover_data_03/autumn_leaves/000053.jpg→/content/drive/My Drive/aiapp/class_3_clover_data_03/autumn_leaves/000053.jpg\n",
            "/content/drive/My Drive/aiapp/class_3_clover_data_03/autumn_leaves/000054.jpg→/content/drive/My Drive/aiapp/class_3_clover_data_03/autumn_leaves/000054.jpg\n",
            "/content/drive/My Drive/aiapp/class_3_clover_data_03/autumn_leaves/000055.jpg→/content/drive/My Drive/aiapp/class_3_clover_data_03/autumn_leaves/000055.jpg\n",
            "/content/drive/My Drive/aiapp/class_3_clover_data_03/autumn_leaves/000056.jpg→/content/drive/My Drive/aiapp/class_3_clover_data_03/autumn_leaves/000056.jpg\n",
            "/content/drive/My Drive/aiapp/class_3_clover_data_03/autumn_leaves/000057.jpg→/content/drive/My Drive/aiapp/class_3_clover_data_03/autumn_leaves/000057.jpg\n",
            "/content/drive/My Drive/aiapp/class_3_clover_data_03/autumn_leaves/000058.jpg→/content/drive/My Drive/aiapp/class_3_clover_data_03/autumn_leaves/000058.jpg\n",
            "/content/drive/My Drive/aiapp/class_3_clover_data_03/autumn_leaves/000059.jpg→/content/drive/My Drive/aiapp/class_3_clover_data_03/autumn_leaves/000059.jpg\n",
            "/content/drive/My Drive/aiapp/class_3_clover_data_03/autumn_leaves/000060.jpg→/content/drive/My Drive/aiapp/class_3_clover_data_03/autumn_leaves/000060.jpg\n",
            "/content/drive/My Drive/aiapp/class_3_clover_data_03/autumn_leaves/000061.jpg→/content/drive/My Drive/aiapp/class_3_clover_data_03/autumn_leaves/000061.jpg\n",
            "/content/drive/My Drive/aiapp/class_3_clover_data_03/autumn_leaves/000062.jpg→/content/drive/My Drive/aiapp/class_3_clover_data_03/autumn_leaves/000062.jpg\n",
            "/content/drive/My Drive/aiapp/class_3_clover_data_03/autumn_leaves/000063.jpg→/content/drive/My Drive/aiapp/class_3_clover_data_03/autumn_leaves/000063.jpg\n",
            "/content/drive/My Drive/aiapp/class_3_clover_data_03/autumn_leaves/000064.jpg→/content/drive/My Drive/aiapp/class_3_clover_data_03/autumn_leaves/000064.jpg\n",
            "/content/drive/My Drive/aiapp/class_3_clover_data_03/autumn_leaves/000065.jpg→/content/drive/My Drive/aiapp/class_3_clover_data_03/autumn_leaves/000065.jpg\n",
            "/content/drive/My Drive/aiapp/class_3_clover_data_03/autumn_leaves/000066.jpg→/content/drive/My Drive/aiapp/class_3_clover_data_03/autumn_leaves/000066.jpg\n",
            "/content/drive/My Drive/aiapp/class_3_clover_data_03/autumn_leaves/000067.jpg→/content/drive/My Drive/aiapp/class_3_clover_data_03/autumn_leaves/000067.jpg\n",
            "/content/drive/My Drive/aiapp/class_3_clover_data_03/autumn_leaves/000068.jpg→/content/drive/My Drive/aiapp/class_3_clover_data_03/autumn_leaves/000068.jpg\n",
            "/content/drive/My Drive/aiapp/class_3_clover_data_03/autumn_leaves/000069.jpg→/content/drive/My Drive/aiapp/class_3_clover_data_03/autumn_leaves/000069.jpg\n",
            "/content/drive/My Drive/aiapp/class_3_clover_data_03/autumn_leaves/000070.jpg→/content/drive/My Drive/aiapp/class_3_clover_data_03/autumn_leaves/000070.jpg\n",
            "/content/drive/My Drive/aiapp/class_3_clover_data_03/autumn_leaves/000071.jpg→/content/drive/My Drive/aiapp/class_3_clover_data_03/autumn_leaves/000071.jpg\n",
            "/content/drive/My Drive/aiapp/class_3_clover_data_03/autumn_leaves/000072.jpg→/content/drive/My Drive/aiapp/class_3_clover_data_03/autumn_leaves/000072.jpg\n",
            "/content/drive/My Drive/aiapp/class_3_clover_data_03/autumn_leaves/000073.jpg→/content/drive/My Drive/aiapp/class_3_clover_data_03/autumn_leaves/000073.jpg\n",
            "/content/drive/My Drive/aiapp/class_3_clover_data_03/autumn_leaves/000074.jpg→/content/drive/My Drive/aiapp/class_3_clover_data_03/autumn_leaves/000074.jpg\n",
            "/content/drive/My Drive/aiapp/class_3_clover_data_03/autumn_leaves/000075.jpg→/content/drive/My Drive/aiapp/class_3_clover_data_03/autumn_leaves/000075.jpg\n",
            "/content/drive/My Drive/aiapp/class_3_clover_data_03/autumn_leaves/000076.jpg→/content/drive/My Drive/aiapp/class_3_clover_data_03/autumn_leaves/000076.jpg\n",
            "/content/drive/My Drive/aiapp/class_3_clover_data_03/autumn_leaves/000077.jpg→/content/drive/My Drive/aiapp/class_3_clover_data_03/autumn_leaves/000077.jpg\n",
            "/content/drive/My Drive/aiapp/class_3_clover_data_03/autumn_leaves/000078.jpg→/content/drive/My Drive/aiapp/class_3_clover_data_03/autumn_leaves/000078.jpg\n",
            "/content/drive/My Drive/aiapp/class_3_clover_data_03/autumn_leaves/000079.jpg→/content/drive/My Drive/aiapp/class_3_clover_data_03/autumn_leaves/000079.jpg\n",
            "/content/drive/My Drive/aiapp/class_3_clover_data_03/autumn_leaves/000080.jpg→/content/drive/My Drive/aiapp/class_3_clover_data_03/autumn_leaves/000080.jpg\n",
            "/content/drive/My Drive/aiapp/class_3_clover_data_03/autumn_leaves/000081.jpg→/content/drive/My Drive/aiapp/class_3_clover_data_03/autumn_leaves/000081.jpg\n",
            "/content/drive/My Drive/aiapp/class_3_clover_data_03/autumn_leaves/000082.jpg→/content/drive/My Drive/aiapp/class_3_clover_data_03/autumn_leaves/000082.jpg\n",
            "/content/drive/My Drive/aiapp/class_3_clover_data_03/autumn_leaves/000083.jpg→/content/drive/My Drive/aiapp/class_3_clover_data_03/autumn_leaves/000083.jpg\n",
            "/content/drive/My Drive/aiapp/class_3_clover_data_03/autumn_leaves/000084.jpg→/content/drive/My Drive/aiapp/class_3_clover_data_03/autumn_leaves/000084.jpg\n",
            "/content/drive/My Drive/aiapp/class_3_clover_data_03/autumn_leaves/000085.jpg→/content/drive/My Drive/aiapp/class_3_clover_data_03/autumn_leaves/000085.jpg\n",
            "/content/drive/My Drive/aiapp/class_3_clover_data_03/autumn_leaves/000086.jpg→/content/drive/My Drive/aiapp/class_3_clover_data_03/autumn_leaves/000086.jpg\n",
            "/content/drive/My Drive/aiapp/class_3_clover_data_03/autumn_leaves/000087.jpg→/content/drive/My Drive/aiapp/class_3_clover_data_03/autumn_leaves/000087.jpg\n",
            "/content/drive/My Drive/aiapp/class_3_clover_data_03/autumn_leaves/000088.jpg→/content/drive/My Drive/aiapp/class_3_clover_data_03/autumn_leaves/000088.jpg\n",
            "/content/drive/My Drive/aiapp/class_3_clover_data_03/autumn_leaves/000089.jpg→/content/drive/My Drive/aiapp/class_3_clover_data_03/autumn_leaves/000089.jpg\n",
            "/content/drive/My Drive/aiapp/class_3_clover_data_03/autumn_leaves/000090.jpg→/content/drive/My Drive/aiapp/class_3_clover_data_03/autumn_leaves/000090.jpg\n",
            "/content/drive/My Drive/aiapp/class_3_clover_data_03/autumn_leaves/000091.jpg→/content/drive/My Drive/aiapp/class_3_clover_data_03/autumn_leaves/000091.jpg\n",
            "/content/drive/My Drive/aiapp/class_3_clover_data_03/autumn_leaves/000092.jpg→/content/drive/My Drive/aiapp/class_3_clover_data_03/autumn_leaves/000092.jpg\n",
            "/content/drive/My Drive/aiapp/class_3_clover_data_03/autumn_leaves/000093.jpg→/content/drive/My Drive/aiapp/class_3_clover_data_03/autumn_leaves/000093.jpg\n",
            "/content/drive/My Drive/aiapp/class_3_clover_data_03/autumn_leaves/000094.jpg→/content/drive/My Drive/aiapp/class_3_clover_data_03/autumn_leaves/000094.jpg\n",
            "/content/drive/My Drive/aiapp/class_3_clover_data_03/autumn_leaves/000095.jpg→/content/drive/My Drive/aiapp/class_3_clover_data_03/autumn_leaves/000095.jpg\n",
            "/content/drive/My Drive/aiapp/class_3_clover_data_03/autumn_leaves/000096.jpg→/content/drive/My Drive/aiapp/class_3_clover_data_03/autumn_leaves/000096.jpg\n",
            "/content/drive/My Drive/aiapp/class_3_clover_data_03/autumn_leaves/000097.jpg→/content/drive/My Drive/aiapp/class_3_clover_data_03/autumn_leaves/000097.jpg\n",
            "/content/drive/My Drive/aiapp/class_3_clover_data_03/autumn_leaves/000098.jpg→/content/drive/My Drive/aiapp/class_3_clover_data_03/autumn_leaves/000098.jpg\n",
            "/content/drive/My Drive/aiapp/class_3_clover_data_03/autumn_leaves/000099.jpg→/content/drive/My Drive/aiapp/class_3_clover_data_03/autumn_leaves/000099.jpg\n",
            "/content/drive/My Drive/aiapp/class_3_clover_data_03/autumn_leaves/000100.jpg→/content/drive/My Drive/aiapp/class_3_clover_data_03/autumn_leaves/000100.jpg\n",
            "/content/drive/My Drive/aiapp/class_3_clover_data_03/autumn_leaves/000101.jpg→/content/drive/My Drive/aiapp/class_3_clover_data_03/autumn_leaves/000101.jpg\n",
            "/content/drive/My Drive/aiapp/class_3_clover_data_03/autumn_leaves/000102.jpg→/content/drive/My Drive/aiapp/class_3_clover_data_03/autumn_leaves/000102.jpg\n",
            "/content/drive/My Drive/aiapp/class_3_clover_data_03/autumn_leaves/000103.jpg→/content/drive/My Drive/aiapp/class_3_clover_data_03/autumn_leaves/000103.jpg\n",
            "/content/drive/My Drive/aiapp/class_3_clover_data_03/autumn_leaves/000104.jpg→/content/drive/My Drive/aiapp/class_3_clover_data_03/autumn_leaves/000104.jpg\n",
            "/content/drive/My Drive/aiapp/class_3_clover_data_03/autumn_leaves/000105.jpg→/content/drive/My Drive/aiapp/class_3_clover_data_03/autumn_leaves/000105.jpg\n",
            "/content/drive/My Drive/aiapp/class_3_clover_data_03/autumn_leaves/000106.jpg→/content/drive/My Drive/aiapp/class_3_clover_data_03/autumn_leaves/000106.jpg\n",
            "/content/drive/My Drive/aiapp/class_3_clover_data_03/autumn_leaves/000107.jpg→/content/drive/My Drive/aiapp/class_3_clover_data_03/autumn_leaves/000107.jpg\n",
            "/content/drive/My Drive/aiapp/class_3_clover_data_03/autumn_leaves/000108.jpg→/content/drive/My Drive/aiapp/class_3_clover_data_03/autumn_leaves/000108.jpg\n",
            "/content/drive/My Drive/aiapp/class_3_clover_data_03/autumn_leaves/000109.jpg→/content/drive/My Drive/aiapp/class_3_clover_data_03/autumn_leaves/000109.jpg\n",
            "/content/drive/My Drive/aiapp/class_3_clover_data_03/autumn_leaves/000110.jpg→/content/drive/My Drive/aiapp/class_3_clover_data_03/autumn_leaves/000110.jpg\n",
            "/content/drive/My Drive/aiapp/class_3_clover_data_03/autumn_leaves/000111.jpg→/content/drive/My Drive/aiapp/class_3_clover_data_03/autumn_leaves/000111.jpg\n",
            "/content/drive/My Drive/aiapp/class_3_clover_data_03/autumn_leaves/000112.jpg→/content/drive/My Drive/aiapp/class_3_clover_data_03/autumn_leaves/000112.jpg\n",
            "/content/drive/My Drive/aiapp/class_3_clover_data_03/autumn_leaves/000113.jpg→/content/drive/My Drive/aiapp/class_3_clover_data_03/autumn_leaves/000113.jpg\n",
            "/content/drive/My Drive/aiapp/class_3_clover_data_03/autumn_leaves/000114.jpg→/content/drive/My Drive/aiapp/class_3_clover_data_03/autumn_leaves/000114.jpg\n",
            "/content/drive/My Drive/aiapp/class_3_clover_data_03/autumn_leaves/000115.jpg→/content/drive/My Drive/aiapp/class_3_clover_data_03/autumn_leaves/000115.jpg\n",
            "/content/drive/My Drive/aiapp/class_3_clover_data_03/autumn_leaves/000116.jpg→/content/drive/My Drive/aiapp/class_3_clover_data_03/autumn_leaves/000116.jpg\n",
            "/content/drive/My Drive/aiapp/class_3_clover_data_03/autumn_leaves/000117.jpg→/content/drive/My Drive/aiapp/class_3_clover_data_03/autumn_leaves/000117.jpg\n",
            "/content/drive/My Drive/aiapp/class_3_clover_data_03/autumn_leaves/000118.jpg→/content/drive/My Drive/aiapp/class_3_clover_data_03/autumn_leaves/000118.jpg\n",
            "/content/drive/My Drive/aiapp/class_3_clover_data_03/autumn_leaves/000119.jpg→/content/drive/My Drive/aiapp/class_3_clover_data_03/autumn_leaves/000119.jpg\n",
            "/content/drive/My Drive/aiapp/class_3_clover_data_03/autumn_leaves/000120.jpg→/content/drive/My Drive/aiapp/class_3_clover_data_03/autumn_leaves/000120.jpg\n",
            "/content/drive/My Drive/aiapp/class_3_clover_data_03/autumn_leaves/000121.jpg→/content/drive/My Drive/aiapp/class_3_clover_data_03/autumn_leaves/000121.jpg\n",
            "/content/drive/My Drive/aiapp/class_3_clover_data_03/autumn_leaves/000122.jpg→/content/drive/My Drive/aiapp/class_3_clover_data_03/autumn_leaves/000122.jpg\n",
            "/content/drive/My Drive/aiapp/class_3_clover_data_03/autumn_leaves/000123.jpg→/content/drive/My Drive/aiapp/class_3_clover_data_03/autumn_leaves/000123.jpg\n",
            "/content/drive/My Drive/aiapp/class_3_clover_data_03/autumn_leaves/000124.jpg→/content/drive/My Drive/aiapp/class_3_clover_data_03/autumn_leaves/000124.jpg\n",
            "/content/drive/My Drive/aiapp/class_3_clover_data_03/autumn_leaves/000125.jpg→/content/drive/My Drive/aiapp/class_3_clover_data_03/autumn_leaves/000125.jpg\n",
            "/content/drive/My Drive/aiapp/class_3_clover_data_03/autumn_leaves/000126.jpg→/content/drive/My Drive/aiapp/class_3_clover_data_03/autumn_leaves/000126.jpg\n",
            "/content/drive/My Drive/aiapp/class_3_clover_data_03/autumn_leaves/000127.jpg→/content/drive/My Drive/aiapp/class_3_clover_data_03/autumn_leaves/000127.jpg\n",
            "/content/drive/My Drive/aiapp/class_3_clover_data_03/autumn_leaves/000128.jpg→/content/drive/My Drive/aiapp/class_3_clover_data_03/autumn_leaves/000128.jpg\n",
            "/content/drive/My Drive/aiapp/class_3_clover_data_03/autumn_leaves/000129.jpg→/content/drive/My Drive/aiapp/class_3_clover_data_03/autumn_leaves/000129.jpg\n",
            "/content/drive/My Drive/aiapp/class_3_clover_data_03/autumn_leaves/000130.jpg→/content/drive/My Drive/aiapp/class_3_clover_data_03/autumn_leaves/000130.jpg\n",
            "/content/drive/My Drive/aiapp/class_3_clover_data_03/autumn_leaves/000131.jpg→/content/drive/My Drive/aiapp/class_3_clover_data_03/autumn_leaves/000131.jpg\n",
            "/content/drive/My Drive/aiapp/class_3_clover_data_03/autumn_leaves/000132.jpg→/content/drive/My Drive/aiapp/class_3_clover_data_03/autumn_leaves/000132.jpg\n",
            "/content/drive/My Drive/aiapp/class_3_clover_data_03/autumn_leaves/000133.jpg→/content/drive/My Drive/aiapp/class_3_clover_data_03/autumn_leaves/000133.jpg\n",
            "/content/drive/My Drive/aiapp/class_3_clover_data_03/autumn_leaves/000134.jpg→/content/drive/My Drive/aiapp/class_3_clover_data_03/autumn_leaves/000134.jpg\n",
            "/content/drive/My Drive/aiapp/class_3_clover_data_03/autumn_leaves/000135.jpg→/content/drive/My Drive/aiapp/class_3_clover_data_03/autumn_leaves/000135.jpg\n",
            "/content/drive/My Drive/aiapp/class_3_clover_data_03/autumn_leaves/000136.jpg→/content/drive/My Drive/aiapp/class_3_clover_data_03/autumn_leaves/000136.jpg\n",
            "/content/drive/My Drive/aiapp/class_3_clover_data_03/autumn_leaves/000137.jpg→/content/drive/My Drive/aiapp/class_3_clover_data_03/autumn_leaves/000137.jpg\n",
            "/content/drive/My Drive/aiapp/class_3_clover_data_03/autumn_leaves/000138.jpg→/content/drive/My Drive/aiapp/class_3_clover_data_03/autumn_leaves/000138.jpg\n",
            "/content/drive/My Drive/aiapp/class_3_clover_data_03/autumn_leaves/000139.jpg→/content/drive/My Drive/aiapp/class_3_clover_data_03/autumn_leaves/000139.jpg\n",
            "/content/drive/My Drive/aiapp/class_3_clover_data_03/autumn_leaves/000140.jpg→/content/drive/My Drive/aiapp/class_3_clover_data_03/autumn_leaves/000140.jpg\n",
            "/content/drive/My Drive/aiapp/class_3_clover_data_03/autumn_leaves/000141.jpg→/content/drive/My Drive/aiapp/class_3_clover_data_03/autumn_leaves/000141.jpg\n",
            "/content/drive/My Drive/aiapp/class_3_clover_data_03/autumn_leaves/000142.jpg→/content/drive/My Drive/aiapp/class_3_clover_data_03/autumn_leaves/000142.jpg\n",
            "/content/drive/My Drive/aiapp/class_3_clover_data_03/autumn_leaves/000143.jpg→/content/drive/My Drive/aiapp/class_3_clover_data_03/autumn_leaves/000143.jpg\n",
            "/content/drive/My Drive/aiapp/class_3_clover_data_03/autumn_leaves/000144.jpg→/content/drive/My Drive/aiapp/class_3_clover_data_03/autumn_leaves/000144.jpg\n",
            "/content/drive/My Drive/aiapp/class_3_clover_data_03/autumn_leaves/000145.jpg→/content/drive/My Drive/aiapp/class_3_clover_data_03/autumn_leaves/000145.jpg\n",
            "/content/drive/My Drive/aiapp/class_3_clover_data_03/autumn_leaves/000146.jpg→/content/drive/My Drive/aiapp/class_3_clover_data_03/autumn_leaves/000146.jpg\n",
            "/content/drive/My Drive/aiapp/class_3_clover_data_03/autumn_leaves/000147.jpg→/content/drive/My Drive/aiapp/class_3_clover_data_03/autumn_leaves/000147.jpg\n",
            "/content/drive/My Drive/aiapp/class_3_clover_data_03/autumn_leaves/000148.jpg→/content/drive/My Drive/aiapp/class_3_clover_data_03/autumn_leaves/000148.jpg\n",
            "/content/drive/My Drive/aiapp/class_3_clover_data_03/autumn_leaves/000149.jpg→/content/drive/My Drive/aiapp/class_3_clover_data_03/autumn_leaves/000149.jpg\n",
            "/content/drive/My Drive/aiapp/class_3_clover_data_03/autumn_leaves/000150.jpg→/content/drive/My Drive/aiapp/class_3_clover_data_03/autumn_leaves/000150.jpg\n",
            "/content/drive/My Drive/aiapp/class_3_clover_data_03/autumn_leaves/000151.jpg→/content/drive/My Drive/aiapp/class_3_clover_data_03/autumn_leaves/000151.jpg\n",
            "/content/drive/My Drive/aiapp/class_3_clover_data_03/autumn_leaves/000152.jpg→/content/drive/My Drive/aiapp/class_3_clover_data_03/autumn_leaves/000152.jpg\n",
            "/content/drive/My Drive/aiapp/class_3_clover_data_03/autumn_leaves/000153.jpg→/content/drive/My Drive/aiapp/class_3_clover_data_03/autumn_leaves/000153.jpg\n",
            "/content/drive/My Drive/aiapp/class_3_clover_data_03/autumn_leaves/000154.jpg→/content/drive/My Drive/aiapp/class_3_clover_data_03/autumn_leaves/000154.jpg\n",
            "/content/drive/My Drive/aiapp/class_3_clover_data_03/autumn_leaves/000155.jpg→/content/drive/My Drive/aiapp/class_3_clover_data_03/autumn_leaves/000155.jpg\n",
            "/content/drive/My Drive/aiapp/class_3_clover_data_03/autumn_leaves/000156.jpg→/content/drive/My Drive/aiapp/class_3_clover_data_03/autumn_leaves/000156.jpg\n",
            "/content/drive/My Drive/aiapp/class_3_clover_data_03/autumn_leaves/000157.jpg→/content/drive/My Drive/aiapp/class_3_clover_data_03/autumn_leaves/000157.jpg\n",
            "/content/drive/My Drive/aiapp/class_3_clover_data_03/autumn_leaves/000158.jpg→/content/drive/My Drive/aiapp/class_3_clover_data_03/autumn_leaves/000158.jpg\n",
            "/content/drive/My Drive/aiapp/class_3_clover_data_03/autumn_leaves/000159.jpg→/content/drive/My Drive/aiapp/class_3_clover_data_03/autumn_leaves/000159.jpg\n",
            "/content/drive/My Drive/aiapp/class_3_clover_data_03/autumn_leaves/000160.jpg→/content/drive/My Drive/aiapp/class_3_clover_data_03/autumn_leaves/000160.jpg\n",
            "/content/drive/My Drive/aiapp/class_3_clover_data_03/autumn_leaves/000161.jpg→/content/drive/My Drive/aiapp/class_3_clover_data_03/autumn_leaves/000161.jpg\n",
            "/content/drive/My Drive/aiapp/class_3_clover_data_03/autumn_leaves/000162.jpg→/content/drive/My Drive/aiapp/class_3_clover_data_03/autumn_leaves/000162.jpg\n",
            "/content/drive/My Drive/aiapp/class_3_clover_data_03/autumn_leaves/000163.jpg→/content/drive/My Drive/aiapp/class_3_clover_data_03/autumn_leaves/000163.jpg\n",
            "/content/drive/My Drive/aiapp/class_3_clover_data_03/autumn_leaves/000164.jpg→/content/drive/My Drive/aiapp/class_3_clover_data_03/autumn_leaves/000164.jpg\n",
            "/content/drive/My Drive/aiapp/class_3_clover_data_03/autumn_leaves/000165.jpg→/content/drive/My Drive/aiapp/class_3_clover_data_03/autumn_leaves/000165.jpg\n",
            "/content/drive/My Drive/aiapp/class_3_clover_data_03/autumn_leaves/000166.jpg→/content/drive/My Drive/aiapp/class_3_clover_data_03/autumn_leaves/000166.jpg\n",
            "/content/drive/My Drive/aiapp/class_3_clover_data_03/autumn_leaves/000167.jpg→/content/drive/My Drive/aiapp/class_3_clover_data_03/autumn_leaves/000167.jpg\n",
            "/content/drive/My Drive/aiapp/class_3_clover_data_03/autumn_leaves/000168.jpg→/content/drive/My Drive/aiapp/class_3_clover_data_03/autumn_leaves/000168.jpg\n",
            "/content/drive/My Drive/aiapp/class_3_clover_data_03/autumn_leaves/000169.jpg→/content/drive/My Drive/aiapp/class_3_clover_data_03/autumn_leaves/000169.jpg\n",
            "/content/drive/My Drive/aiapp/class_3_clover_data_03/autumn_leaves/000170.jpg→/content/drive/My Drive/aiapp/class_3_clover_data_03/autumn_leaves/000170.jpg\n",
            "/content/drive/My Drive/aiapp/class_3_clover_data_03/autumn_leaves/000171.jpg→/content/drive/My Drive/aiapp/class_3_clover_data_03/autumn_leaves/000171.jpg\n",
            "/content/drive/My Drive/aiapp/class_3_clover_data_03/autumn_leaves/000172.jpg→/content/drive/My Drive/aiapp/class_3_clover_data_03/autumn_leaves/000172.jpg\n",
            "/content/drive/My Drive/aiapp/class_3_clover_data_03/autumn_leaves/000173.jpg→/content/drive/My Drive/aiapp/class_3_clover_data_03/autumn_leaves/000173.jpg\n",
            "/content/drive/My Drive/aiapp/class_3_clover_data_03/autumn_leaves/000174.jpg→/content/drive/My Drive/aiapp/class_3_clover_data_03/autumn_leaves/000174.jpg\n",
            "/content/drive/My Drive/aiapp/class_3_clover_data_03/autumn_leaves/000175.jpg→/content/drive/My Drive/aiapp/class_3_clover_data_03/autumn_leaves/000175.jpg\n",
            "/content/drive/My Drive/aiapp/class_3_clover_data_03/autumn_leaves/000176.jpg→/content/drive/My Drive/aiapp/class_3_clover_data_03/autumn_leaves/000176.jpg\n",
            "/content/drive/My Drive/aiapp/class_3_clover_data_03/autumn_leaves/000177.jpg→/content/drive/My Drive/aiapp/class_3_clover_data_03/autumn_leaves/000177.jpg\n",
            "/content/drive/My Drive/aiapp/class_3_clover_data_03/autumn_leaves/000178.jpg→/content/drive/My Drive/aiapp/class_3_clover_data_03/autumn_leaves/000178.jpg\n",
            "/content/drive/My Drive/aiapp/class_3_clover_data_03/autumn_leaves/000179.jpg→/content/drive/My Drive/aiapp/class_3_clover_data_03/autumn_leaves/000179.jpg\n",
            "/content/drive/My Drive/aiapp/class_3_clover_data_03/autumn_leaves/000180.jpg→/content/drive/My Drive/aiapp/class_3_clover_data_03/autumn_leaves/000180.jpg\n",
            "/content/drive/My Drive/aiapp/class_3_clover_data_03/autumn_leaves/000181.jpg→/content/drive/My Drive/aiapp/class_3_clover_data_03/autumn_leaves/000181.jpg\n",
            "/content/drive/My Drive/aiapp/class_3_clover_data_03/autumn_leaves/000182.jpg→/content/drive/My Drive/aiapp/class_3_clover_data_03/autumn_leaves/000182.jpg\n",
            "/content/drive/My Drive/aiapp/class_3_clover_data_03/autumn_leaves/000183.jpg→/content/drive/My Drive/aiapp/class_3_clover_data_03/autumn_leaves/000183.jpg\n",
            "/content/drive/My Drive/aiapp/class_3_clover_data_03/autumn_leaves/000184.jpg→/content/drive/My Drive/aiapp/class_3_clover_data_03/autumn_leaves/000184.jpg\n",
            "/content/drive/My Drive/aiapp/class_3_clover_data_03/autumn_leaves/000185.jpg→/content/drive/My Drive/aiapp/class_3_clover_data_03/autumn_leaves/000185.jpg\n",
            "/content/drive/My Drive/aiapp/class_3_clover_data_03/autumn_leaves/000186.jpg→/content/drive/My Drive/aiapp/class_3_clover_data_03/autumn_leaves/000186.jpg\n",
            "/content/drive/My Drive/aiapp/class_3_clover_data_03/autumn_leaves/000187.jpg→/content/drive/My Drive/aiapp/class_3_clover_data_03/autumn_leaves/000187.jpg\n",
            "/content/drive/My Drive/aiapp/class_3_clover_data_03/autumn_leaves/000188.jpg→/content/drive/My Drive/aiapp/class_3_clover_data_03/autumn_leaves/000188.jpg\n",
            "/content/drive/My Drive/aiapp/class_3_clover_data_03/autumn_leaves/000189.jpg→/content/drive/My Drive/aiapp/class_3_clover_data_03/autumn_leaves/000189.jpg\n",
            "/content/drive/My Drive/aiapp/class_3_clover_data_03/autumn_leaves/000190.jpg→/content/drive/My Drive/aiapp/class_3_clover_data_03/autumn_leaves/000190.jpg\n",
            "/content/drive/My Drive/aiapp/class_3_clover_data_03/autumn_leaves/000191.jpg→/content/drive/My Drive/aiapp/class_3_clover_data_03/autumn_leaves/000191.jpg\n",
            "/content/drive/My Drive/aiapp/class_3_clover_data_03/autumn_leaves/000192.jpg→/content/drive/My Drive/aiapp/class_3_clover_data_03/autumn_leaves/000192.jpg\n",
            "/content/drive/My Drive/aiapp/class_3_clover_data_03/autumn_leaves/000193.jpg→/content/drive/My Drive/aiapp/class_3_clover_data_03/autumn_leaves/000193.jpg\n",
            "/content/drive/My Drive/aiapp/class_3_clover_data_03/autumn_leaves/000194.jpg→/content/drive/My Drive/aiapp/class_3_clover_data_03/autumn_leaves/000194.jpg\n",
            "/content/drive/My Drive/aiapp/class_3_clover_data_03/autumn_leaves/000195.jpg→/content/drive/My Drive/aiapp/class_3_clover_data_03/autumn_leaves/000195.jpg\n",
            "/content/drive/My Drive/aiapp/class_3_clover_data_03/autumn_leaves/000196.jpg→/content/drive/My Drive/aiapp/class_3_clover_data_03/autumn_leaves/000196.jpg\n",
            "/content/drive/My Drive/aiapp/class_3_clover_data_03/autumn_leaves/000197.jpg→/content/drive/My Drive/aiapp/class_3_clover_data_03/autumn_leaves/000197.jpg\n",
            "/content/drive/My Drive/aiapp/class_3_clover_data_03/autumn_leaves/000198.jpg→/content/drive/My Drive/aiapp/class_3_clover_data_03/autumn_leaves/000198.jpg\n",
            "/content/drive/My Drive/aiapp/class_3_clover_data_03/autumn_leaves/000199.jpg→/content/drive/My Drive/aiapp/class_3_clover_data_03/autumn_leaves/000199.jpg\n",
            "/content/drive/My Drive/aiapp/class_3_clover_data_03/autumn_leaves/000200.jpg→/content/drive/My Drive/aiapp/class_3_clover_data_03/autumn_leaves/000200.jpg\n",
            "/content/drive/My Drive/aiapp/class_3_clover_data_03/autumn_leaves/000201.jpg→/content/drive/My Drive/aiapp/class_3_clover_data_03/autumn_leaves/000201.jpg\n",
            "/content/drive/My Drive/aiapp/class_3_clover_data_03/autumn_leaves/000202.jpg→/content/drive/My Drive/aiapp/class_3_clover_data_03/autumn_leaves/000202.jpg\n",
            "/content/drive/My Drive/aiapp/class_3_clover_data_03/autumn_leaves/000203.jpg→/content/drive/My Drive/aiapp/class_3_clover_data_03/autumn_leaves/000203.jpg\n",
            "/content/drive/My Drive/aiapp/class_3_clover_data_03/autumn_leaves/000204.jpg→/content/drive/My Drive/aiapp/class_3_clover_data_03/autumn_leaves/000204.jpg\n",
            "/content/drive/My Drive/aiapp/class_3_clover_data_03/autumn_leaves/000205.jpg→/content/drive/My Drive/aiapp/class_3_clover_data_03/autumn_leaves/000205.jpg\n",
            "/content/drive/My Drive/aiapp/class_3_clover_data_03/autumn_leaves/000206.jpg→/content/drive/My Drive/aiapp/class_3_clover_data_03/autumn_leaves/000206.jpg\n",
            "/content/drive/My Drive/aiapp/class_3_clover_data_03/autumn_leaves/000207.jpg→/content/drive/My Drive/aiapp/class_3_clover_data_03/autumn_leaves/000207.jpg\n",
            "/content/drive/My Drive/aiapp/class_3_clover_data_03/autumn_leaves/000208.jpg→/content/drive/My Drive/aiapp/class_3_clover_data_03/autumn_leaves/000208.jpg\n",
            "/content/drive/My Drive/aiapp/class_3_clover_data_03/autumn_leaves/000209.jpg→/content/drive/My Drive/aiapp/class_3_clover_data_03/autumn_leaves/000209.jpg\n",
            "/content/drive/My Drive/aiapp/class_3_clover_data_03/autumn_leaves/000210.jpg→/content/drive/My Drive/aiapp/class_3_clover_data_03/autumn_leaves/000210.jpg\n",
            "/content/drive/My Drive/aiapp/class_3_clover_data_03/autumn_leaves/000211.jpg→/content/drive/My Drive/aiapp/class_3_clover_data_03/autumn_leaves/000211.jpg\n",
            "/content/drive/My Drive/aiapp/class_3_clover_data_03/autumn_leaves/000212.jpg→/content/drive/My Drive/aiapp/class_3_clover_data_03/autumn_leaves/000212.jpg\n",
            "/content/drive/My Drive/aiapp/class_3_clover_data_03/autumn_leaves/000213.jpg→/content/drive/My Drive/aiapp/class_3_clover_data_03/autumn_leaves/000213.jpg\n",
            "/content/drive/My Drive/aiapp/class_3_clover_data_03/autumn_leaves/000214.jpg→/content/drive/My Drive/aiapp/class_3_clover_data_03/autumn_leaves/000214.jpg\n",
            "/content/drive/My Drive/aiapp/class_3_clover_data_03/autumn_leaves/000215.jpg→/content/drive/My Drive/aiapp/class_3_clover_data_03/autumn_leaves/000215.jpg\n",
            "/content/drive/My Drive/aiapp/class_3_clover_data_03/autumn_leaves/000216.jpg→/content/drive/My Drive/aiapp/class_3_clover_data_03/autumn_leaves/000216.jpg\n",
            "/content/drive/My Drive/aiapp/class_3_clover_data_03/autumn_leaves/000217.jpg→/content/drive/My Drive/aiapp/class_3_clover_data_03/autumn_leaves/000217.jpg\n",
            "/content/drive/My Drive/aiapp/class_3_clover_data_03/autumn_leaves/000218.jpg→/content/drive/My Drive/aiapp/class_3_clover_data_03/autumn_leaves/000218.jpg\n",
            "/content/drive/My Drive/aiapp/class_3_clover_data_03/autumn_leaves/000219.jpg→/content/drive/My Drive/aiapp/class_3_clover_data_03/autumn_leaves/000219.jpg\n",
            "/content/drive/My Drive/aiapp/class_3_clover_data_03/autumn_leaves/000220.jpg→/content/drive/My Drive/aiapp/class_3_clover_data_03/autumn_leaves/000220.jpg\n",
            "/content/drive/My Drive/aiapp/class_3_clover_data_03/autumn_leaves/000221.jpg→/content/drive/My Drive/aiapp/class_3_clover_data_03/autumn_leaves/000221.jpg\n",
            "/content/drive/My Drive/aiapp/class_3_clover_data_03/autumn_leaves/000222.jpg→/content/drive/My Drive/aiapp/class_3_clover_data_03/autumn_leaves/000222.jpg\n",
            "/content/drive/My Drive/aiapp/class_3_clover_data_03/autumn_leaves/000223.jpg→/content/drive/My Drive/aiapp/class_3_clover_data_03/autumn_leaves/000223.jpg\n",
            "/content/drive/My Drive/aiapp/class_3_clover_data_03/autumn_leaves/000224.jpg→/content/drive/My Drive/aiapp/class_3_clover_data_03/autumn_leaves/000224.jpg\n",
            "/content/drive/My Drive/aiapp/class_3_clover_data_03/autumn_leaves/000225.jpg→/content/drive/My Drive/aiapp/class_3_clover_data_03/autumn_leaves/000225.jpg\n",
            "/content/drive/My Drive/aiapp/class_3_clover_data_03/autumn_leaves/000226.jpg→/content/drive/My Drive/aiapp/class_3_clover_data_03/autumn_leaves/000226.jpg\n",
            "/content/drive/My Drive/aiapp/class_3_clover_data_03/autumn_leaves/000227.jpg→/content/drive/My Drive/aiapp/class_3_clover_data_03/autumn_leaves/000227.jpg\n",
            "/content/drive/My Drive/aiapp/class_3_clover_data_03/autumn_leaves/000228.jpg→/content/drive/My Drive/aiapp/class_3_clover_data_03/autumn_leaves/000228.jpg\n",
            "/content/drive/My Drive/aiapp/class_3_clover_data_03/autumn_leaves/000229.jpg→/content/drive/My Drive/aiapp/class_3_clover_data_03/autumn_leaves/000229.jpg\n",
            "/content/drive/My Drive/aiapp/class_3_clover_data_03/autumn_leaves/000230.jpg→/content/drive/My Drive/aiapp/class_3_clover_data_03/autumn_leaves/000230.jpg\n",
            "/content/drive/My Drive/aiapp/class_3_clover_data_03/autumn_leaves/000231.jpg→/content/drive/My Drive/aiapp/class_3_clover_data_03/autumn_leaves/000231.jpg\n",
            "/content/drive/My Drive/aiapp/class_3_clover_data_03/autumn_leaves/000232.jpg→/content/drive/My Drive/aiapp/class_3_clover_data_03/autumn_leaves/000232.jpg\n",
            "/content/drive/My Drive/aiapp/class_3_clover_data_03/autumn_leaves/000233.jpg→/content/drive/My Drive/aiapp/class_3_clover_data_03/autumn_leaves/000233.jpg\n",
            "/content/drive/My Drive/aiapp/class_3_clover_data_03/autumn_leaves/000234.jpg→/content/drive/My Drive/aiapp/class_3_clover_data_03/autumn_leaves/000234.jpg\n",
            "/content/drive/My Drive/aiapp/class_3_clover_data_03/autumn_leaves/000235.jpg→/content/drive/My Drive/aiapp/class_3_clover_data_03/autumn_leaves/000235.jpg\n",
            "/content/drive/My Drive/aiapp/class_3_clover_data_03/autumn_leaves/000236.jpg→/content/drive/My Drive/aiapp/class_3_clover_data_03/autumn_leaves/000236.jpg\n",
            "/content/drive/My Drive/aiapp/class_3_clover_data_03/autumn_leaves/000237.jpg→/content/drive/My Drive/aiapp/class_3_clover_data_03/autumn_leaves/000237.jpg\n",
            "/content/drive/My Drive/aiapp/class_3_clover_data_03/autumn_leaves/000238.jpg→/content/drive/My Drive/aiapp/class_3_clover_data_03/autumn_leaves/000238.jpg\n",
            "/content/drive/My Drive/aiapp/class_3_clover_data_03/autumn_leaves/000239.jpg→/content/drive/My Drive/aiapp/class_3_clover_data_03/autumn_leaves/000239.jpg\n",
            "/content/drive/My Drive/aiapp/class_3_clover_data_03/autumn_leaves/000240.jpg→/content/drive/My Drive/aiapp/class_3_clover_data_03/autumn_leaves/000240.jpg\n",
            "/content/drive/My Drive/aiapp/class_3_clover_data_03/autumn_leaves/000241.jpg→/content/drive/My Drive/aiapp/class_3_clover_data_03/autumn_leaves/000241.jpg\n",
            "/content/drive/My Drive/aiapp/class_3_clover_data_03/autumn_leaves/000242.jpg→/content/drive/My Drive/aiapp/class_3_clover_data_03/autumn_leaves/000242.jpg\n",
            "/content/drive/My Drive/aiapp/class_3_clover_data_03/autumn_leaves/000243.jpg→/content/drive/My Drive/aiapp/class_3_clover_data_03/autumn_leaves/000243.jpg\n",
            "/content/drive/My Drive/aiapp/class_3_clover_data_03/autumn_leaves/000244.jpg→/content/drive/My Drive/aiapp/class_3_clover_data_03/autumn_leaves/000244.jpg\n",
            "/content/drive/My Drive/aiapp/class_3_clover_data_03/autumn_leaves/000245.jpg→/content/drive/My Drive/aiapp/class_3_clover_data_03/autumn_leaves/000245.jpg\n",
            "/content/drive/My Drive/aiapp/class_3_clover_data_03/autumn_leaves/000246.jpg→/content/drive/My Drive/aiapp/class_3_clover_data_03/autumn_leaves/000246.jpg\n",
            "/content/drive/My Drive/aiapp/class_3_clover_data_03/autumn_leaves/000247.jpg→/content/drive/My Drive/aiapp/class_3_clover_data_03/autumn_leaves/000247.jpg\n",
            "/content/drive/My Drive/aiapp/class_3_clover_data_03/autumn_leaves/000248.jpg→/content/drive/My Drive/aiapp/class_3_clover_data_03/autumn_leaves/000248.jpg\n",
            "/content/drive/My Drive/aiapp/class_3_clover_data_03/autumn_leaves/000249.jpg→/content/drive/My Drive/aiapp/class_3_clover_data_03/autumn_leaves/000249.jpg\n",
            "/content/drive/My Drive/aiapp/class_3_clover_data_03/autumn_leaves/000250.jpg→/content/drive/My Drive/aiapp/class_3_clover_data_03/autumn_leaves/000250.jpg\n",
            "/content/drive/My Drive/aiapp/class_3_clover_data_03/autumn_leaves/000251.jpg→/content/drive/My Drive/aiapp/class_3_clover_data_03/autumn_leaves/000251.jpg\n",
            "/content/drive/My Drive/aiapp/class_3_clover_data_03/autumn_leaves/000252.jpg→/content/drive/My Drive/aiapp/class_3_clover_data_03/autumn_leaves/000252.jpg\n",
            "/content/drive/My Drive/aiapp/class_3_clover_data_03/autumn_leaves/000253.jpg→/content/drive/My Drive/aiapp/class_3_clover_data_03/autumn_leaves/000253.jpg\n",
            "/content/drive/My Drive/aiapp/class_3_clover_data_03/autumn_leaves/000254.jpg→/content/drive/My Drive/aiapp/class_3_clover_data_03/autumn_leaves/000254.jpg\n",
            "/content/drive/My Drive/aiapp/class_3_clover_data_03/autumn_leaves/000255.jpg→/content/drive/My Drive/aiapp/class_3_clover_data_03/autumn_leaves/000255.jpg\n",
            "/content/drive/My Drive/aiapp/class_3_clover_data_03/autumn_leaves/000256.jpg→/content/drive/My Drive/aiapp/class_3_clover_data_03/autumn_leaves/000256.jpg\n",
            "/content/drive/My Drive/aiapp/class_3_clover_data_03/autumn_leaves/000257.jpg→/content/drive/My Drive/aiapp/class_3_clover_data_03/autumn_leaves/000257.jpg\n",
            "/content/drive/My Drive/aiapp/class_3_clover_data_03/autumn_leaves/000258.jpg→/content/drive/My Drive/aiapp/class_3_clover_data_03/autumn_leaves/000258.jpg\n",
            "/content/drive/My Drive/aiapp/class_3_clover_data_03/autumn_leaves/000259.jpg→/content/drive/My Drive/aiapp/class_3_clover_data_03/autumn_leaves/000259.jpg\n",
            "/content/drive/My Drive/aiapp/class_3_clover_data_03/autumn_leaves/000260.jpg→/content/drive/My Drive/aiapp/class_3_clover_data_03/autumn_leaves/000260.jpg\n",
            "/content/drive/My Drive/aiapp/class_3_clover_data_03/autumn_leaves/000261.jpg→/content/drive/My Drive/aiapp/class_3_clover_data_03/autumn_leaves/000261.jpg\n",
            "/content/drive/My Drive/aiapp/class_3_clover_data_03/autumn_leaves/000262.jpg→/content/drive/My Drive/aiapp/class_3_clover_data_03/autumn_leaves/000262.jpg\n",
            "/content/drive/My Drive/aiapp/class_3_clover_data_03/autumn_leaves/000263.jpg→/content/drive/My Drive/aiapp/class_3_clover_data_03/autumn_leaves/000263.jpg\n",
            "/content/drive/My Drive/aiapp/class_3_clover_data_03/autumn_leaves/000264.jpg→/content/drive/My Drive/aiapp/class_3_clover_data_03/autumn_leaves/000264.jpg\n",
            "/content/drive/My Drive/aiapp/class_3_clover_data_03/autumn_leaves/000265.jpg→/content/drive/My Drive/aiapp/class_3_clover_data_03/autumn_leaves/000265.jpg\n",
            "/content/drive/My Drive/aiapp/class_3_clover_data_03/autumn_leaves/000266.jpg→/content/drive/My Drive/aiapp/class_3_clover_data_03/autumn_leaves/000266.jpg\n",
            "/content/drive/My Drive/aiapp/class_3_clover_data_03/autumn_leaves/000267.jpg→/content/drive/My Drive/aiapp/class_3_clover_data_03/autumn_leaves/000267.jpg\n",
            "/content/drive/My Drive/aiapp/class_3_clover_data_03/autumn_leaves/000268.jpg→/content/drive/My Drive/aiapp/class_3_clover_data_03/autumn_leaves/000268.jpg\n",
            "/content/drive/My Drive/aiapp/class_3_clover_data_03/autumn_leaves/000269.jpg→/content/drive/My Drive/aiapp/class_3_clover_data_03/autumn_leaves/000269.jpg\n",
            "/content/drive/My Drive/aiapp/class_3_clover_data_03/autumn_leaves/000270.jpg→/content/drive/My Drive/aiapp/class_3_clover_data_03/autumn_leaves/000270.jpg\n",
            "/content/drive/My Drive/aiapp/class_3_clover_data_03/autumn_leaves/000271.jpg→/content/drive/My Drive/aiapp/class_3_clover_data_03/autumn_leaves/000271.jpg\n",
            "/content/drive/My Drive/aiapp/class_3_clover_data_03/autumn_leaves/000272.jpg→/content/drive/My Drive/aiapp/class_3_clover_data_03/autumn_leaves/000272.jpg\n"
          ],
          "name": "stdout"
        }
      ]
    }
  ]
}