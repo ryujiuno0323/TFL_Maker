{
  "nbformat": 4,
  "nbformat_minor": 0,
  "metadata": {
    "colab": {
      "name": "ファイル操作コード.ipynb",
      "provenance": [],
      "authorship_tag": "ABX9TyNT6ErEOZ6j1P+cIGt33Jbq",
      "include_colab_link": true
    },
    "kernelspec": {
      "name": "python3",
      "display_name": "Python 3"
    }
  },
  "cells": [
    {
      "cell_type": "markdown",
      "metadata": {
        "id": "view-in-github",
        "colab_type": "text"
      },
      "source": [
        "<a href=\"https://colab.research.google.com/github/ryujiuno0323/ryujiuno0323/blob/master/%E3%83%95%E3%82%A1%E3%82%A4%E3%83%AB%E6%93%8D%E4%BD%9C%E3%82%B3%E3%83%BC%E3%83%89.ipynb\" target=\"_parent\"><img src=\"https://colab.research.google.com/assets/colab-badge.svg\" alt=\"Open In Colab\"/></a>"
      ]
    },
    {
      "cell_type": "markdown",
      "metadata": {
        "id": "MBrC47_YJbHV",
        "colab_type": "text"
      },
      "source": [
        "#カレントディレクトリの取得"
      ]
    },
    {
      "cell_type": "code",
      "metadata": {
        "id": "6wR6BvoUu_68",
        "colab_type": "code",
        "outputId": "a85e379c-13a9-4f65-b350-db96aab9b4a8",
        "colab": {
          "base_uri": "https://localhost:8080/",
          "height": 52
        }
      },
      "source": [
        "import os\n",
        "\n",
        "p_temp=os.getcwd()\n",
        "print(p_temp)\n",
        "#取得したディレクトリの配下のディレクトリ確認\n",
        "print(os.listdir(path=p_temp))\n",
        "#絶対パス\n"
      ],
      "execution_count": 0,
      "outputs": [
        {
          "output_type": "stream",
          "text": [
            "/content\n",
            "['.config', 'sample_data']\n"
          ],
          "name": "stdout"
        }
      ]
    },
    {
      "cell_type": "markdown",
      "metadata": {
        "id": "9zeSllz-DYPp",
        "colab_type": "text"
      },
      "source": [
        "#ディレクトリ内のファイル・サブディレクトリ一覧を取得: iterdir()"
      ]
    },
    {
      "cell_type": "code",
      "metadata": {
        "id": "Pej_AYA_1ZnY",
        "colab_type": "code",
        "outputId": "eef4fbff-53e2-4d4d-f973-c78f5409b100",
        "colab": {
          "base_uri": "https://localhost:8080/",
          "height": 232
        }
      },
      "source": [
        "#ディレクトリ内のファイル・サブディレクトリ一覧を取得: iterdir()\n",
        "#https://note.nkmk.me/python-pathlib-iterdir-glob/\n",
        "\n",
        "import pathlib\n",
        "import glob\n",
        "import re\n",
        "import pprint\n",
        "\n",
        "p_temp='sample_data'\n",
        "print(os.listdir(p_temp))\n",
        "print('')\n",
        "\n",
        "p_temp = pathlib.Path(path_temp)\n",
        "print(p_temp)\n",
        "print(type(p_temp))\n",
        "print(type(p_temp.iterdir()))\n",
        "pprint.pprint(list(p_temp.iterdir()))\n",
        "\n",
        "#pprint.pprint(list(p_temp.glob('**')))\n",
        "#pprint.pprint(list(p_temp.glob('daisy/*')))\n",
        "#pprint.pprint(list(p_temp.glob('**/*')))"
      ],
      "execution_count": 0,
      "outputs": [
        {
          "output_type": "stream",
          "text": [
            "['anscombe.json', 'README.md', 'california_housing_test.csv', 'california_housing_train.csv', 'mnist_test.csv', 'mnist_train_small.csv']\n",
            "\n",
            "sample_data\n",
            "<class 'pathlib.PosixPath'>\n",
            "<class 'generator'>\n",
            "[PosixPath('sample_data/anscombe.json'),\n",
            " PosixPath('sample_data/README.md'),\n",
            " PosixPath('sample_data/california_housing_test.csv'),\n",
            " PosixPath('sample_data/california_housing_train.csv'),\n",
            " PosixPath('sample_data/mnist_test.csv'),\n",
            " PosixPath('sample_data/mnist_train_small.csv')]\n"
          ],
          "name": "stdout"
        }
      ]
    },
    {
      "cell_type": "markdown",
      "metadata": {
        "id": "1OtmkNwFw6V1",
        "colab_type": "text"
      },
      "source": [
        "#ディレクトリ（フォルダ）を作成するmkdir, makedirs\n",
        "\n",
        "深い階層のディレクトリまで再帰的に作成: os.makedirs()"
      ]
    },
    {
      "cell_type": "code",
      "metadata": {
        "id": "F5Gi_U1Bw1AU",
        "colab_type": "code",
        "colab": {}
      },
      "source": [
        "#\"exist_ok=True\"と\"すると既に存在しているディレクトリを指定してもエラーにならない。デフォルトはexist_ok=Falseなので注意。\n",
        "os.makedirs(new_dir_path_recursive, exist_ok=True)"
      ],
      "execution_count": 0,
      "outputs": []
    },
    {
      "cell_type": "code",
      "metadata": {
        "id": "vvv18PXM7kiz",
        "colab_type": "code",
        "colab": {}
      },
      "source": [
        ""
      ],
      "execution_count": 0,
      "outputs": []
    },
    {
      "cell_type": "markdown",
      "metadata": {
        "id": "-dvve1LlCUkA",
        "colab_type": "text"
      },
      "source": [
        "#ディレクトリのパスを指定すると中のファイルやサブディレクトリごとまとめて削除"
      ]
    },
    {
      "cell_type": "code",
      "metadata": {
        "id": "4PY_p_aRoSGh",
        "colab_type": "code",
        "colab": {}
      },
      "source": [
        "#これから作業するフォルダに余分なフォルダやファイルがないか確認\n",
        "\n",
        "path_aiapp=\"/content/drive/My Drive/aiapp/\"\n",
        "path_data='class_2_clover_data_10/'+'autumn_leaf'\n",
        "path_ori=path_aiapp+path_data\n",
        "\n",
        "print(path_aiapp)\n",
        "print(os.listdir(path=path_aiapp))\n",
        "print(path_ori)\n",
        "print(os.listdir(path=path_ori))\n",
        "\"\"\"\n",
        "#ある場合　削除\n",
        "import pathlib\n",
        "import glob\n",
        "import re\n",
        "import pprint\n",
        "import shutil\n",
        "\n",
        "shutil.rmtree(path_ori)\n",
        "print(os.listdir(path_aiapp))\n",
        "\n",
        "\"\"\"\n"
      ],
      "execution_count": 0,
      "outputs": []
    },
    {
      "cell_type": "markdown",
      "metadata": {
        "id": "Vegp_84-708N",
        "colab_type": "text"
      },
      "source": [
        "#フォルダごとコピー"
      ]
    },
    {
      "cell_type": "code",
      "metadata": {
        "id": "TDj-TSJYwU9v",
        "colab_type": "code",
        "colab": {}
      },
      "source": [
        "#フォルダごとコピー\n",
        "\"\"\"\n",
        "path_aiapp=\"/content/drive/My Drive/aiapp/\"\n",
        "old_dir=path_aiapp+'class_3_clover_data_10/'\n",
        "new_dir=path_aiapp+'class_2_clover_data_10/'\n",
        "\n",
        "#os.makedirs(new_dir, exist_ok=True)\n",
        "shutil.copytree(old_dir, new_dir)\n",
        "\n",
        "p_temp= new_dir\n",
        "print(os.listdir(p_temp))\n",
        "\"\"\"\n",
        "print(p_temp)\n",
        "files = os.listdir(p_temp)  #ファイル名とディレクトリ名の両方のリストが返る\n",
        "count = len(files)  \n",
        "print(count)\n",
        "print(files)\n",
        "\"\"\" "
      ],
      "execution_count": 0,
      "outputs": []
    },
    {
      "cell_type": "markdown",
      "metadata": {
        "id": "aUmdvYYnEqWH",
        "colab_type": "text"
      },
      "source": [
        "#圧縮"
      ]
    },
    {
      "cell_type": "code",
      "metadata": {
        "id": "4mUzDhQVElIc",
        "colab_type": "code",
        "colab": {}
      },
      "source": [
        "#shutil.make_archive(zipの名前, 'zip'[, root_dir=zip化させたいディレクトリのパス])\n",
        "\n",
        "import shutil\n",
        "zip_dir=new_dir\n",
        "print(shutil.make_archive('dogcat_data', 'zip', root_dir=zip_dir))\n",
        "\n",
        "# ダウンロードしたいフォルダを zip 圧縮する\n",
        "!zip -r /content/download.zip /content/folder\n",
        "\n",
        "# 圧縮した zip ファイルをダウンロードする\n",
        "from google.colab import files\n",
        "files.download(\"/content/download.zip\")"
      ],
      "execution_count": 0,
      "outputs": []
    },
    {
      "cell_type": "code",
      "metadata": {
        "id": "QbvmyXKAGOQz",
        "colab_type": "code",
        "colab": {}
      },
      "source": [
        ""
      ],
      "execution_count": 0,
      "outputs": []
    },
    {
      "cell_type": "markdown",
      "metadata": {
        "id": "N4yF--v48dLH",
        "colab_type": "text"
      },
      "source": [
        "#データデータ数表示"
      ]
    },
    {
      "cell_type": "code",
      "metadata": {
        "id": "PpwknYsNtZR1",
        "colab_type": "code",
        "colab": {}
      },
      "source": [
        "#★icrawler(3) Driveの保存済みデータデータ数表示\n",
        "\n",
        "path = path_0\n",
        "print(path)\n",
        "files = os.listdir(path)  #ファイル名とディレクトリ名の両方のリストが返る\n",
        "count = len(files)  \n",
        "print(count)\n",
        "print(files)  \n",
        "\n",
        "path = path_1\n",
        "print(path)\n",
        "files = os.listdir(path)  \n",
        "count = len(files)  \n",
        "print(count)\n",
        "print(files) \n",
        "\n",
        "path = path_2\n",
        "print(path)\n",
        "files = os.listdir(path)  \n",
        "count = len(files)  \n",
        "print(count)\n",
        "print(files) \n",
        "\n",
        "\n",
        "#path = path_3\n",
        "#print(path)\n",
        "#files = os.listdir(path)  \n",
        "#count = len(files)  \n",
        "#print(count)\n",
        "#print(files)\n"
      ],
      "execution_count": 0,
      "outputs": []
    },
    {
      "cell_type": "markdown",
      "metadata": {
        "colab_type": "text",
        "id": "TmBsyW7C9-Vo"
      },
      "source": [
        "#ファイルオープン"
      ]
    },
    {
      "cell_type": "code",
      "metadata": {
        "id": "rvIbFSgHxP9j",
        "colab_type": "code",
        "outputId": "7822c93f-3097-49a7-e3f1-4d246289a85c",
        "colab": {
          "base_uri": "https://localhost:8080/",
          "height": 35
        }
      },
      "source": [
        "path='sample_data/README.md'\n",
        "\n",
        "with open(path) as f:\n",
        "    print(type(f))\n",
        "# <class '_io.TextIOWrapper'>"
      ],
      "execution_count": 0,
      "outputs": [
        {
          "output_type": "stream",
          "text": [
            "<class '_io.TextIOWrapper'>\n"
          ],
          "name": "stdout"
        }
      ]
    },
    {
      "cell_type": "code",
      "metadata": {
        "id": "xtmtNQ8dszMi",
        "colab_type": "code",
        "colab": {}
      },
      "source": [
        "import locale\n",
        "\n",
        "\n",
        "print(locale.getpreferredencoding())"
      ],
      "execution_count": 0,
      "outputs": []
    },
    {
      "cell_type": "markdown",
      "metadata": {
        "id": "DuXAZmdVfrRB",
        "colab_type": "text"
      },
      "source": [
        "#改行を含む文字列の書き込み"
      ]
    },
    {
      "cell_type": "code",
      "metadata": {
        "id": "E7nUig8XIkTP",
        "colab_type": "code",
        "outputId": "6f1eff4f-a0d8-4a26-cc2b-d2c2ab670012",
        "colab": {
          "base_uri": "https://localhost:8080/",
          "height": 124
        }
      },
      "source": [
        "import os\n",
        "\n",
        "p_temp=os.getcwd()\n",
        "print(p_temp)\n",
        "print(os.listdir(path=p_temp))\n",
        "\n",
        "p_temp=os.getcwd()+\"test.text\"\n",
        "print(p_temp)\n",
        "\n",
        "path_w=p_temp\n",
        "s = 'New line 1\\nNew line 2\\nNew line 3'\n",
        "\n",
        "with open(path_w, mode='w') as f:\n",
        "    f.write(s)\n",
        "\n",
        "with open(path_w) as f:\n",
        "    print(f.read())\n"
      ],
      "execution_count": 0,
      "outputs": [
        {
          "output_type": "stream",
          "text": [
            "/content\n",
            "['.config', 'sample_data']\n",
            "/contenttest.text\n",
            "New line 1\n",
            "New line 2\n",
            "New line 3\n"
          ],
          "name": "stdout"
        }
      ]
    },
    {
      "cell_type": "code",
      "metadata": {
        "id": "vLBuqBcKjFLQ",
        "colab_type": "code",
        "colab": {}
      },
      "source": [
        "path_w = 'data/src/test_w.txt'\n",
        "\n",
        "s = 'New file'\n",
        "\n",
        "with open(path_w, mode='w') as f:\n",
        "    f.write(s)\n",
        "\n",
        "with open(path_w) as f:\n",
        "    print(f.read())\n",
        "# New file\n",
        "\n",
        "\n",
        "\"\"\"\n",
        "p_temp=\".\"\n",
        "print(p_temp)\n",
        "path_w=p_temp\n",
        "\n",
        "s = 'New line 1\\nNew line 2\\nNew line 3'\n",
        "\n",
        "with open(path_w, mode='w') as f:\n",
        "    f.write(s)\n",
        "\n",
        "print(p_temp)\n",
        "with open(path_w) as f:\n",
        "    print(f.read())"
      ],
      "execution_count": 0,
      "outputs": []
    },
    {
      "cell_type": "markdown",
      "metadata": {
        "id": "TR-cb6WI0uz6",
        "colab_type": "text"
      },
      "source": [
        "#指定したファイルの内容表示\n"
      ]
    },
    {
      "cell_type": "code",
      "metadata": {
        "id": "c7Jx2tL900dp",
        "colab_type": "code",
        "colab": {}
      },
      "source": [
        "with open(path) as f:\n",
        "    print(type(f))\n",
        "# <class '_io.TextIOWrapper'>"
      ],
      "execution_count": 0,
      "outputs": []
    },
    {
      "cell_type": "code",
      "metadata": {
        "id": "fJNOAp5PbziT",
        "colab_type": "code",
        "outputId": "25a46aa7-65c3-4c21-83ed-adbf34977008",
        "colab": {
          "base_uri": "https://localhost:8080/",
          "height": 90
        }
      },
      "source": [
        "print('指定ディレクトリ配下のフォルダ名とファイル名表示')\n",
        "\n",
        "path = \"sample_data\"\n",
        "\n",
        "files = os.listdir(path)\n",
        "print(type(files))  # <class 'list'>\n",
        "print(files)        # ['dir1', 'dir2', 'file1', 'file2.txt', 'file3.jpg']"
      ],
      "execution_count": 0,
      "outputs": [
        {
          "output_type": "stream",
          "text": [
            "指定ディレクトリ配下のフォルダ名とファイル名表示\n",
            "<class 'list'>\n",
            "['anscombe.json', 'README.md', 'mnist_train_small.csv', 'california_housing_train.csv', 'mnist_test.csv', 'california_housing_test.csv']\n"
          ],
          "name": "stdout"
        }
      ]
    },
    {
      "cell_type": "code",
      "metadata": {
        "id": "FF7Nk1LqlP3P",
        "colab_type": "code",
        "outputId": "8de333ee-1560-4e3a-da24-7ca105b7dcb6",
        "colab": {
          "base_uri": "https://localhost:8080/",
          "height": 260
        }
      },
      "source": [
        "print('ファイル名(anscombe)のあるディレクトリ表示')\n",
        "dir_sample_data=\"sample_data\"\n",
        "path=os.path.dirname(dir_sample_data)\n",
        "print(path)\n",
        "#print('ファイル名(zip_file)のあるディレクトリ配下のディレクトリ名とファイル名表示')\n",
        "#path_01=os.listdir(path)\n",
        "#print(path_01)"
      ],
      "execution_count": 0,
      "outputs": [
        {
          "output_type": "stream",
          "text": [
            "ファイル名(anscombe)のあるディレクトリ表示\n"
          ],
          "name": "stdout"
        },
        {
          "output_type": "error",
          "ename": "NameError",
          "evalue": "ignored",
          "traceback": [
            "\u001b[0;31m---------------------------------------------------------------------------\u001b[0m",
            "\u001b[0;31mNameError\u001b[0m                                 Traceback (most recent call last)",
            "\u001b[0;32m<ipython-input-1-11d8c1d3d189>\u001b[0m in \u001b[0;36m<module>\u001b[0;34m()\u001b[0m\n\u001b[1;32m      1\u001b[0m \u001b[0mprint\u001b[0m\u001b[0;34m(\u001b[0m\u001b[0;34m'ファイル名(anscombe)のあるディレクトリ表示'\u001b[0m\u001b[0;34m)\u001b[0m\u001b[0;34m\u001b[0m\u001b[0;34m\u001b[0m\u001b[0m\n\u001b[1;32m      2\u001b[0m \u001b[0mdir_sample_data\u001b[0m\u001b[0;34m=\u001b[0m\u001b[0;34m\"sample_data\"\u001b[0m\u001b[0;34m\u001b[0m\u001b[0;34m\u001b[0m\u001b[0m\n\u001b[0;32m----> 3\u001b[0;31m \u001b[0mpath\u001b[0m\u001b[0;34m=\u001b[0m\u001b[0mos\u001b[0m\u001b[0;34m.\u001b[0m\u001b[0mpath\u001b[0m\u001b[0;34m.\u001b[0m\u001b[0mdirname\u001b[0m\u001b[0;34m(\u001b[0m\u001b[0mdir_sample_data\u001b[0m\u001b[0;34m)\u001b[0m\u001b[0;34m\u001b[0m\u001b[0;34m\u001b[0m\u001b[0m\n\u001b[0m\u001b[1;32m      4\u001b[0m \u001b[0mprint\u001b[0m\u001b[0;34m(\u001b[0m\u001b[0mpath\u001b[0m\u001b[0;34m)\u001b[0m\u001b[0;34m\u001b[0m\u001b[0;34m\u001b[0m\u001b[0m\n\u001b[1;32m      5\u001b[0m \u001b[0;31m#print('ファイル名(zip_file)のあるディレクトリ配下のディレクトリ名とファイル名表示')\u001b[0m\u001b[0;34m\u001b[0m\u001b[0;34m\u001b[0m\u001b[0;34m\u001b[0m\u001b[0m\n",
            "\u001b[0;31mNameError\u001b[0m: name 'os' is not defined"
          ]
        }
      ]
    },
    {
      "cell_type": "markdown",
      "metadata": {
        "id": "9oysSCxxTSj1",
        "colab_type": "text"
      },
      "source": [
        ""
      ]
    },
    {
      "cell_type": "markdown",
      "metadata": {
        "colab_type": "text",
        "id": "2e_t9g4HS--_"
      },
      "source": [
        "#フォルダ名のパス文字列からの操作"
      ]
    },
    {
      "cell_type": "code",
      "metadata": {
        "id": "KtbkTQkXTIMU",
        "colab_type": "code",
        "outputId": "c9444195-5bce-48a4-ee45-c22aad8d43bc",
        "colab": {
          "base_uri": "https://localhost:8080/",
          "height": 141
        }
      },
      "source": [
        "import os\n",
        "\n",
        "#最下層のフォルダ名を取得\n",
        "\n",
        "#パス文字列がフォルダ名を示す場合の注意点\n",
        "\n",
        "#末尾に区切り文字がない場合の取得操作\n",
        "dir_path1 = './dir/subdir'\n",
        "\n",
        "dirpath_without_sep = dir_path1\n",
        "print(os.path.split(dirpath_without_sep))\n",
        "# ('./dir', 'subdir')\n",
        "print(os.path.basename(dirpath_without_sep))\n",
        "# subdir\n",
        "\n",
        "\n",
        "#末尾に区切り文字がある場合の取得操作\n",
        "\n",
        "#あるのに上記操作\n",
        "dir_path1 = './dir/subdir/'\n",
        "dirpath_without_sep = dir_path1\n",
        "print(os.path.split(dirpath_without_sep))\n",
        "# ('./dir', 'subdir')\n",
        "print(os.path.basename(dirpath_without_sep))\n",
        "# ('./dir/subdir', '')\n",
        "# 表示されない\n",
        "\n",
        "#ある場合の操作\n",
        "dir_path1 = './dir/subdir/'\n",
        "dirpath_with_sep = dir_path1\n",
        "print(os.path.split(dirpath_with_sep))\n",
        "# ('./dir/subdir', '')\n",
        "print(os.path.basename(os.path.dirname(dirpath_with_sep)))\n",
        "# subdir\n",
        "\n",
        "#ないのに上記操作\n",
        "dir_path1 = './dir/subdir'\n",
        "dirpath_with_sep = dir_path1\n",
        "print(os.path.split(dirpath_with_sep))\n",
        "# ('./dir/subdir', '')\n",
        "# 表示されない\n",
        "\n",
        "\n"
      ],
      "execution_count": 0,
      "outputs": [
        {
          "output_type": "stream",
          "text": [
            "('./dir', 'subdir')\n",
            "subdir\n",
            "('./dir/subdir', '')\n",
            "\n",
            "('./dir/subdir', '')\n",
            "subdir\n",
            "('./dir', 'subdir')\n"
          ],
          "name": "stdout"
        }
      ]
    },
    {
      "cell_type": "markdown",
      "metadata": {
        "id": "tu3gIV8HS3Hm",
        "colab_type": "text"
      },
      "source": [
        "#ファイル名のあるパス文字列からの操作"
      ]
    },
    {
      "cell_type": "code",
      "metadata": {
        "id": "hEDVYdDtJ0AX",
        "colab_type": "code",
        "outputId": "902155af-a69c-4902-de36-0ddfffc36d4a",
        "colab": {
          "base_uri": "https://localhost:8080/",
          "height": 141
        }
      },
      "source": [
        "import os\n",
        "\n",
        "\n",
        "#ファイル名のあるパス文字列からの操作\n",
        "#filepath = './dir/subdir/filename.ext'\n",
        "filepath = './dir/subdir/filename.tar.gz'\n",
        "\n",
        "#パス文字列からファイル名取得\n",
        "#filepath = './dir/subdir/'\n",
        "basename = os.path.basename(filepath)\n",
        "print(basename)\n",
        "# >filename.ext\n",
        "#パスからファイル名取得(拡張子なし=1個目の'.'より左)\n",
        "basename_without_ext = os.path.splitext(os.path.basename(filepath))[0]\n",
        "print(basename_without_ext)\n",
        "#> filename\n",
        "#パスからファイル名取得(拡張子なし=1個目の'.'より左)\n",
        "print(os.path.splitext(os.path.basename(filepath_tar_gz))[0])\n",
        "# filename.tar\n",
        "#パスからファイル名取得(2個目の'.'より左)\n",
        "print(os.path.basename(filepath_tar_gz).split('.', 1)[0])\n",
        "# filename\n",
        "\n",
        "#フォルダ名（ディレクトリ名）を取得: os.path.dirname()\n",
        "dirname = os.path.dirname(filepath)\n",
        "print(dirname)\n",
        "# ./dir/subdir\n",
        "\n"
      ],
      "execution_count": 0,
      "outputs": [
        {
          "output_type": "stream",
          "text": [
            "filename.tar.gz\n",
            "filename.tar\n",
            "filename.tar\n",
            "filename\n",
            "./dir/subdir\n",
            "('./dir', 'subdir')\n",
            "subdir\n"
          ],
          "name": "stdout"
        }
      ]
    },
    {
      "cell_type": "code",
      "metadata": {
        "colab_type": "code",
        "outputId": "6f1f3e47-b499-442d-862d-1eaa0d8e4bd6",
        "id": "CX3_y5l_Mtle",
        "colab": {
          "base_uri": "https://localhost:8080/",
          "height": 207
        }
      },
      "source": [
        "#os.chdir('/content/sample_data')  #カレントディレクトリを移動 \n",
        "print(os.getcwd())                #カレントディレクトリの取得\n",
        "print(os.listdir(path='.'))       #現在のディレクトリの内容の取得"
      ],
      "execution_count": 0,
      "outputs": [
        {
          "output_type": "error",
          "ename": "NameError",
          "evalue": "ignored",
          "traceback": [
            "\u001b[0;31m---------------------------------------------------------------------------\u001b[0m",
            "\u001b[0;31mNameError\u001b[0m                                 Traceback (most recent call last)",
            "\u001b[0;32m<ipython-input-1-9075a8233fd0>\u001b[0m in \u001b[0;36m<module>\u001b[0;34m()\u001b[0m\n\u001b[1;32m      1\u001b[0m \u001b[0;31m#os.chdir('/content/sample_data')  #カレントディレクトリを移動\u001b[0m\u001b[0;34m\u001b[0m\u001b[0;34m\u001b[0m\u001b[0;34m\u001b[0m\u001b[0m\n\u001b[0;32m----> 2\u001b[0;31m \u001b[0mprint\u001b[0m\u001b[0;34m(\u001b[0m\u001b[0mos\u001b[0m\u001b[0;34m.\u001b[0m\u001b[0mgetcwd\u001b[0m\u001b[0;34m(\u001b[0m\u001b[0;34m)\u001b[0m\u001b[0;34m)\u001b[0m                \u001b[0;31m#カレントディレクトリの取得\u001b[0m\u001b[0;34m\u001b[0m\u001b[0;34m\u001b[0m\u001b[0m\n\u001b[0m\u001b[1;32m      3\u001b[0m \u001b[0mprint\u001b[0m\u001b[0;34m(\u001b[0m\u001b[0mos\u001b[0m\u001b[0;34m.\u001b[0m\u001b[0mlistdir\u001b[0m\u001b[0;34m(\u001b[0m\u001b[0mpath\u001b[0m\u001b[0;34m=\u001b[0m\u001b[0;34m'.'\u001b[0m\u001b[0;34m)\u001b[0m\u001b[0;34m)\u001b[0m       \u001b[0;31m#現在のディレクトリの内容の取得\u001b[0m\u001b[0;34m\u001b[0m\u001b[0;34m\u001b[0m\u001b[0m\n",
            "\u001b[0;31mNameError\u001b[0m: name 'os' is not defined"
          ]
        }
      ]
    },
    {
      "cell_type": "markdown",
      "metadata": {
        "colab_type": "text",
        "id": "m6qxcMYPMwc5"
      },
      "source": [
        "#ファイル連番振り直し"
      ]
    },
    {
      "cell_type": "code",
      "metadata": {
        "id": "ogosP18D29UH",
        "colab_type": "code",
        "colab": {}
      },
      "source": [
        "'''\n",
        "# 連番リネーム 500番以降に振りなおす\n",
        "import glob, os # --- (*1)\n",
        "# ファイル列挙 --- (*2)\n",
        "#data_dir=\"/content/drive/My Drive/aiapp/class_3_split_clover_01/train/\"\n",
        "files = glob.glob(data_dir+\"*.jpg\")\n",
        "# 繰り返しリネーム --- (*3)\n",
        "i = 600\n",
        "for old_name in files:\n",
        "    # 数値を6桁(000001)形式にそろえる --- (*4)\n",
        "    zero_i = \"{0:06d}\".format(i)\n",
        "    # ファイル名を作る\n",
        "    new_name = data_dir+zero_i + \".jpg\"\n",
        "    # 改名する --- (*5)\n",
        "    os.rename(old_name, new_name)\n",
        "    # 状況を報告\n",
        "    print(old_name + \"→\" + new_name)\n",
        "    # 連番のため数値を加算 --- (*6)\n",
        "    i += 1\n"
      ],
      "execution_count": 0,
      "outputs": []
    },
    {
      "cell_type": "markdown",
      "metadata": {
        "id": "VyLL8yZIZwGf",
        "colab_type": "text"
      },
      "source": [
        ""
      ]
    },
    {
      "cell_type": "markdown",
      "metadata": {
        "colab_type": "text",
        "id": "FxbzxEf9VbUX"
      },
      "source": [
        "#ファイルのディレクトの移動\n",
        "\n",
        "./A,B,C\n",
        "\n",
        "↓\n",
        "\n",
        "./images/A,B,C"
      ]
    },
    {
      "cell_type": "code",
      "metadata": {
        "id": "0DjGcXgaZzVU",
        "colab_type": "code",
        "colab": {}
      },
      "source": [
        ""
      ],
      "execution_count": 0,
      "outputs": []
    },
    {
      "cell_type": "code",
      "metadata": {
        "id": "jVk8optIVcWY",
        "colab_type": "code",
        "outputId": "f25d7276-16ac-41f3-a241-b82834321291",
        "colab": {
          "base_uri": "https://localhost:8080/",
          "height": 144
        }
      },
      "source": [
        "import os\n",
        "import shutil\n",
        "\n",
        "#shutil.rmtree('./images/cats')\n",
        "#shutil.rmtree('./images/dogs')\n",
        "#shutil.rmtree('./images/pigeon')\n",
        "\n",
        "\n",
        "#from distutils.dir_util import copy_tree\n",
        "shutil.copytree('./cats','./images/cats')\n",
        "shutil.copytree('./dogs','./images/dogs')\n",
        "shutil.copytree('./pigeon','./images/pigeon')\n",
        "\n",
        "path = '/content/images/cats/'\n",
        "files = os.listdir(path)  \n",
        "count = len(files)  \n",
        "print(count)  \n",
        "print(files)  \n",
        "path = '/content/images/dogs/'\n",
        "files = os.listdir(path)  \n",
        "count = len(files)  \n",
        "print(count)  \n",
        "print(files)  \n",
        "path = '/content/images/pigeon'\n",
        "files = os.listdir(path)  \n",
        "count = len(files)  \n",
        "print(count)\n",
        "print(files)  "
      ],
      "execution_count": 0,
      "outputs": [
        {
          "output_type": "stream",
          "text": [
            "284\n",
            "['000013.jpg', '000055.jpg', '000054.jpg', '000066.jpg', '000249.jpg', '000092.jpg', '000084.jpg', '000163.jpg', '000060.jpg', '000189.jpg', '000167.jpg', '000037.jpg', '000181.jpg', '000014.jpg', '000021.jpg', '000121.jpg', '000272.jpg', '000050.jpg', '000146.jpg', '000116.jpg', '000102.jpg', '000160.jpg', '000182.jpg', '000109.jpg', '000017.jpg', '000083.jpg', '000199.jpg', '000252.jpg', '000206.jpg', '000119.jpg', '000103.jpg', '000193.jpg', '000140.jpg', '000033.jpg', '000268.jpg', '000155.jpg', '000053.jpg', '000176.jpg', '000107.jpg', '000217.jpg', '000278.jpg', '000062.jpg', '000223.jpg', '000168.jpg', '000241.jpg', '000075.jpg', '000284.jpg', '000230.jpg', '000067.jpg', '000026.jpg', '000139.jpg', '000178.jpg', '000270.jpg', '000111.jpg', '000137.jpg', '000177.jpg', '000234.jpg', '000130.jpg', '000184.jpg', '000081.jpg', '000269.jpg', '000202.jpg', '000104.jpg', '000195.jpg', '000031.jpg', '000150.jpg', '000018.jpg', '000237.jpg', '000113.jpg', '000010.jpg', '000061.jpg', '000205.jpg', '000141.jpg', '000248.jpg', '000065.jpg', '000011.jpg', '000144.jpg', '000282.jpg', '000085.jpg', '000250.jpg', '000240.jpg', '000057.jpg', '000025.jpg', '000180.jpg', '000098.jpg', '000259.jpg', '000175.jpg', '000079.jpg', '000110.jpg', '000132.jpg', '000251.jpg', '000197.jpg', '000049.jpg', '000012.jpg', '000156.jpg', '000261.jpg', '000280.jpg', '000153.jpg', '000183.jpg', '000196.jpg', '000056.jpg', '000127.jpg', '000174.jpg', '000072.jpg', '000159.jpg', '000164.jpg', '000165.jpg', '000082.jpg', '000244.jpg', '000231.jpg', '000134.jpg', '000068.jpg', '000220.jpg', '000023.jpg', '000058.jpg', '000173.jpg', '000088.jpg', '000219.jpg', '000152.jpg', '000117.jpg', '000046.jpg', '000218.jpg', '000101.jpg', '000019.jpg', '000225.jpg', '000030.jpg', '000108.jpg', '000035.jpg', '000227.jpg', '000207.jpg', '000188.jpg', '000277.jpg', '000229.jpg', '000179.jpg', '000204.jpg', '000001.jpg', '000008.jpg', '000131.jpg', '000158.jpg', '000233.jpg', '000198.jpg', '000211.jpg', '000115.jpg', '000228.jpg', '000185.jpg', '000069.jpg', '000194.jpg', '000258.jpg', '000216.jpg', '000239.jpg', '000201.jpg', '000275.jpg', '000190.jpg', '000028.jpg', '000045.jpg', '000209.jpg', '000215.jpg', '000221.jpg', '000242.jpg', '000076.jpg', '000086.jpg', '000015.jpg', '000074.jpg', '000166.jpg', '000151.jpg', '000266.jpg', '000114.jpg', '000260.jpg', '000279.jpg', '000128.jpg', '000095.jpg', '000003.jpg', '000126.jpg', '000208.jpg', '000263.jpg', '000027.jpg', '000148.jpg', '000172.jpg', '000120.jpg', '000246.jpg', '000047.jpg', '000262.jpg', '000222.jpg', '000073.jpg', '000002.jpg', '000256.jpg', '000281.jpg', '000238.jpg', '000187.jpg', '000099.jpg', '000232.jpg', '000161.jpg', '000254.jpg', '000009.jpg', '000090.jpg', '000212.jpg', '000020.jpg', '000271.jpg', '000087.jpg', '000192.jpg', '000080.jpg', '000283.jpg', '000123.jpg', '000078.jpg', '000094.jpg', '000004.jpg', '000105.jpg', '000247.jpg', '000147.jpg', '000133.jpg', '000171.jpg', '000100.jpg', '000032.jpg', '000040.jpg', '000267.jpg', '000214.jpg', '000059.jpg', '000145.jpg', '000091.jpg', '000125.jpg', '000243.jpg', '000264.jpg', '000191.jpg', '000129.jpg', '000273.jpg', '000149.jpg', '000235.jpg', '000097.jpg', '000039.jpg', '000024.jpg', '000064.jpg', '000044.jpg', '000041.jpg', '000016.jpg', '000186.jpg', '000042.jpg', '000224.jpg', '000124.jpg', '000043.jpg', '000007.jpg', '000162.jpg', '000253.jpg', '000200.jpg', '000257.jpg', '000276.jpg', '000038.jpg', '000255.jpg', '000029.jpg', '000093.jpg', '000077.jpg', '000142.jpg', '000236.jpg', '000265.jpg', '000274.jpg', '000096.jpg', '000135.jpg', '000118.jpg', '000052.jpg', '000169.jpg', '000213.jpg', '000143.jpg', '000112.jpg', '000048.jpg', '000063.jpg', '000157.jpg', '000210.jpg', '000005.jpg', '000245.jpg', '000034.jpg', '000006.jpg', '000089.jpg', '000106.jpg', '000154.jpg', '000138.jpg', '000136.jpg', '000170.jpg', '000071.jpg', '000036.jpg', '000022.jpg', '000122.jpg', '000203.jpg', '000051.jpg', '000070.jpg', '000226.jpg']\n",
            "261\n",
            "['000013.jpg', '000055.jpg', '000054.jpg', '000066.jpg', '000249.jpg', '000092.jpg', '000084.jpg', '000163.jpg', '000060.jpg', '000189.jpg', '000167.jpg', '000037.jpg', '000181.jpg', '000014.jpg', '000021.jpg', '000121.jpg', '000050.jpg', '000146.jpg', '000116.jpg', '000102.jpg', '000160.jpg', '000182.jpg', '000109.jpg', '000017.jpg', '000083.jpg', '000199.jpg', '000252.jpg', '000206.jpg', '000119.jpg', '000103.jpg', '000193.jpg', '000140.jpg', '000033.jpg', '000155.jpg', '000053.jpg', '000176.jpg', '000107.jpg', '000217.jpg', '000062.jpg', '000223.jpg', '000168.jpg', '000241.jpg', '000075.jpg', '000230.jpg', '000067.jpg', '000026.jpg', '000139.jpg', '000178.jpg', '000111.jpg', '000137.jpg', '000177.jpg', '000234.jpg', '000130.jpg', '000184.jpg', '000081.jpg', '000202.jpg', '000104.jpg', '000195.jpg', '000031.jpg', '000150.jpg', '000018.jpg', '000237.jpg', '000113.jpg', '000010.jpg', '000061.jpg', '000205.jpg', '000141.jpg', '000248.jpg', '000065.jpg', '000011.jpg', '000144.jpg', '000085.jpg', '000250.jpg', '000240.jpg', '000057.jpg', '000025.jpg', '000180.jpg', '000098.jpg', '000259.jpg', '000175.jpg', '000079.jpg', '000110.jpg', '000132.jpg', '000251.jpg', '000197.jpg', '000049.jpg', '000012.jpg', '000156.jpg', '000261.jpg', '000153.jpg', '000183.jpg', '000196.jpg', '000056.jpg', '000127.jpg', '000174.jpg', '000072.jpg', '000159.jpg', '000164.jpg', '000165.jpg', '000082.jpg', '000244.jpg', '000231.jpg', '000134.jpg', '000068.jpg', '000220.jpg', '000023.jpg', '000058.jpg', '000173.jpg', '000088.jpg', '000219.jpg', '000152.jpg', '000117.jpg', '000046.jpg', '000218.jpg', '000101.jpg', '000019.jpg', '000225.jpg', '000030.jpg', '000108.jpg', '000035.jpg', '000227.jpg', '000207.jpg', '000188.jpg', '000229.jpg', '000179.jpg', '000204.jpg', '000001.jpg', '000008.jpg', '000131.jpg', '000158.jpg', '000233.jpg', '000198.jpg', '000211.jpg', '000115.jpg', '000228.jpg', '000185.jpg', '000069.jpg', '000194.jpg', '000258.jpg', '000216.jpg', '000239.jpg', '000201.jpg', '000190.jpg', '000028.jpg', '000045.jpg', '000209.jpg', '000215.jpg', '000221.jpg', '000242.jpg', '000076.jpg', '000086.jpg', '000015.jpg', '000074.jpg', '000166.jpg', '000151.jpg', '000114.jpg', '000260.jpg', '000128.jpg', '000095.jpg', '000003.jpg', '000126.jpg', '000208.jpg', '000027.jpg', '000148.jpg', '000172.jpg', '000120.jpg', '000246.jpg', '000047.jpg', '000222.jpg', '000073.jpg', '000002.jpg', '000256.jpg', '000238.jpg', '000187.jpg', '000099.jpg', '000232.jpg', '000161.jpg', '000254.jpg', '000009.jpg', '000090.jpg', '000212.jpg', '000020.jpg', '000087.jpg', '000192.jpg', '000080.jpg', '000123.jpg', '000078.jpg', '000094.jpg', '000004.jpg', '000105.jpg', '000247.jpg', '000147.jpg', '000133.jpg', '000171.jpg', '000100.jpg', '000032.jpg', '000040.jpg', '000214.jpg', '000059.jpg', '000145.jpg', '000091.jpg', '000125.jpg', '000243.jpg', '000191.jpg', '000129.jpg', '000149.jpg', '000235.jpg', '000097.jpg', '000039.jpg', '000024.jpg', '000064.jpg', '000044.jpg', '000041.jpg', '000016.jpg', '000186.jpg', '000042.jpg', '000224.jpg', '000124.jpg', '000043.jpg', '000007.jpg', '000162.jpg', '000253.jpg', '000200.jpg', '000257.jpg', '000038.jpg', '000255.jpg', '000029.jpg', '000093.jpg', '000077.jpg', '000142.jpg', '000236.jpg', '000096.jpg', '000135.jpg', '000118.jpg', '000052.jpg', '000169.jpg', '000213.jpg', '000143.jpg', '000112.jpg', '000048.jpg', '000063.jpg', '000157.jpg', '000210.jpg', '000005.jpg', '000245.jpg', '000034.jpg', '000006.jpg', '000089.jpg', '000106.jpg', '000154.jpg', '000138.jpg', '000136.jpg', '000170.jpg', '000071.jpg', '000036.jpg', '000022.jpg', '000122.jpg', '000203.jpg', '000051.jpg', '000070.jpg', '000226.jpg']\n",
            "235\n",
            "['000013.jpg', '000055.jpg', '000054.jpg', '000066.jpg', '000092.jpg', '000084.jpg', '000163.jpg', '000060.jpg', '000189.jpg', '000167.jpg', '000037.jpg', '000181.jpg', '000014.jpg', '000021.jpg', '000121.jpg', '000050.jpg', '000146.jpg', '000116.jpg', '000102.jpg', '000160.jpg', '000182.jpg', '000109.jpg', '000017.jpg', '000083.jpg', '000199.jpg', '000206.jpg', '000119.jpg', '000103.jpg', '000193.jpg', '000140.jpg', '000033.jpg', '000155.jpg', '000053.jpg', '000176.jpg', '000107.jpg', '000217.jpg', '000062.jpg', '000223.jpg', '000168.jpg', '000075.jpg', '000230.jpg', '000067.jpg', '000026.jpg', '000139.jpg', '000178.jpg', '000111.jpg', '000137.jpg', '000177.jpg', '000234.jpg', '000130.jpg', '000184.jpg', '000081.jpg', '000202.jpg', '000104.jpg', '000195.jpg', '000031.jpg', '000150.jpg', '000018.jpg', '000113.jpg', '000010.jpg', '000061.jpg', '000205.jpg', '000141.jpg', '000065.jpg', '000011.jpg', '000144.jpg', '000085.jpg', '000057.jpg', '000025.jpg', '000180.jpg', '000098.jpg', '000175.jpg', '000079.jpg', '000110.jpg', '000132.jpg', '000197.jpg', '000049.jpg', '000012.jpg', '000156.jpg', '000153.jpg', '000183.jpg', '000196.jpg', '000056.jpg', '000127.jpg', '000174.jpg', '000072.jpg', '000159.jpg', '000164.jpg', '000165.jpg', '000082.jpg', '000231.jpg', '000134.jpg', '000068.jpg', '000220.jpg', '000023.jpg', '000058.jpg', '000173.jpg', '000088.jpg', '000219.jpg', '000152.jpg', '000117.jpg', '000046.jpg', '000218.jpg', '000101.jpg', '000019.jpg', '000225.jpg', '000030.jpg', '000108.jpg', '000035.jpg', '000227.jpg', '000207.jpg', '000188.jpg', '000229.jpg', '000179.jpg', '000204.jpg', '000001.jpg', '000008.jpg', '000131.jpg', '000158.jpg', '000233.jpg', '000198.jpg', '000211.jpg', '000115.jpg', '000228.jpg', '000185.jpg', '000069.jpg', '000194.jpg', '000216.jpg', '000201.jpg', '000190.jpg', '000028.jpg', '000045.jpg', '000209.jpg', '000215.jpg', '000221.jpg', '000076.jpg', '000086.jpg', '000015.jpg', '000074.jpg', '000166.jpg', '000151.jpg', '000114.jpg', '000128.jpg', '000095.jpg', '000003.jpg', '000126.jpg', '000208.jpg', '000027.jpg', '000148.jpg', '000172.jpg', '000120.jpg', '000047.jpg', '000222.jpg', '000073.jpg', '000002.jpg', '000187.jpg', '000099.jpg', '000232.jpg', '000161.jpg', '000009.jpg', '000090.jpg', '000212.jpg', '000020.jpg', '000087.jpg', '000192.jpg', '000080.jpg', '000123.jpg', '000078.jpg', '000094.jpg', '000004.jpg', '000105.jpg', '000147.jpg', '000133.jpg', '000171.jpg', '000100.jpg', '000032.jpg', '000040.jpg', '000214.jpg', '000059.jpg', '000145.jpg', '000091.jpg', '000125.jpg', '000191.jpg', '000129.jpg', '000149.jpg', '000235.jpg', '000097.jpg', '000039.jpg', '000024.jpg', '000064.jpg', '000044.jpg', '000041.jpg', '000016.jpg', '000186.jpg', '000042.jpg', '000224.jpg', '000124.jpg', '000043.jpg', '000007.jpg', '000162.jpg', '000200.jpg', '000038.jpg', '000029.jpg', '000093.jpg', '000077.jpg', '000142.jpg', '000096.jpg', '000135.jpg', '000118.jpg', '000052.jpg', '000169.jpg', '000213.jpg', '000143.jpg', '000112.jpg', '000048.jpg', '000063.jpg', '000157.jpg', '000210.jpg', '000005.jpg', '000034.jpg', '000006.jpg', '000089.jpg', '000106.jpg', '000154.jpg', '000138.jpg', '000136.jpg', '000170.jpg', '000071.jpg', '000036.jpg', '000022.jpg', '000122.jpg', '000203.jpg', '000051.jpg', '000070.jpg', '000226.jpg']\n"
          ],
          "name": "stdout"
        }
      ]
    },
    {
      "cell_type": "markdown",
      "metadata": {
        "id": "iNR6eTIXi2wH",
        "colab_type": "text"
      },
      "source": [
        "#colab←→ driveのファイルコピー"
      ]
    },
    {
      "cell_type": "code",
      "metadata": {
        "id": "YXNbsIeJiuT8",
        "colab_type": "code",
        "colab": {}
      },
      "source": [
        "import os\n",
        "import shutil\n",
        "\n",
        "from urllib import request as req\n",
        "from urllib import error\n",
        "from urllib import parse\n",
        "import bs4"
      ],
      "execution_count": 0,
      "outputs": []
    },
    {
      "cell_type": "code",
      "metadata": {
        "id": "R8mun5eOick5",
        "colab_type": "code",
        "colab": {}
      },
      "source": [
        "from google.colab import drive\n",
        "drive.mount('/content/drive')"
      ],
      "execution_count": 0,
      "outputs": []
    },
    {
      "cell_type": "code",
      "metadata": {
        "id": "KonDnvplvOW9",
        "colab_type": "code",
        "outputId": "779876e4-a0fe-40d5-9693-06dfd54a7d28",
        "colab": {
          "base_uri": "https://localhost:8080/",
          "height": 70
        }
      },
      "source": [
        "''' linuxデータ移動コマンド　#GooleDrive　/sprit_data 　→　Colab　/content/images_☆/sprit_data\n",
        "#https://goengine.hatenablog.com/entry/2019/08/22/000112\n",
        "#/content/drive/\"My Drive\"/aiapp/☆_data_0☆/sprit_data    →   /content/☆_dog/sprit_data\n",
        "\n",
        "!ls　/content/drive/\"My Drive\"/aiapp/test_data_01/sprit_data\n",
        "#!cp -r /content/drive/\"My Drive\"/aiapp/test_data_01/sprit_data /content/test_data_01/sprit_data\n",
        "!ls /content/test_data_01/sprit_data\n",
        "#!rm -r /content/test_data_01"
      ],
      "execution_count": 0,
      "outputs": [
        {
          "output_type": "stream",
          "text": [
            "ls: cannot access '/content/images_dog/sprit_data': No such file or directory\n",
            "drive  sample_data\n",
            "ls: cannot access '/content/images_dog': No such file or directory\n"
          ],
          "name": "stdout"
        }
      ]
    },
    {
      "cell_type": "code",
      "metadata": {
        "id": "U4IqJrlnRKgE",
        "colab_type": "code",
        "colab": {}
      },
      "source": [
        "#!cp -r /content/dogs /content/drive/\"My Drive\"\n",
        "#!cp -r /content/sprit_data /content/drive/\"My Drive\"/aiapp/\"test_data_01\"\n",
        "#!cp -r /content/drive/\"My Drive\"/aiapp/\"clover_data_02\" /content/sprit_data \n",
        "\n",
        "!cp -r /content/drive/\"My Drive\"/aiapp/\"clover_data_02\" /content/clover_sprit_data "
      ],
      "execution_count": 0,
      "outputs": []
    },
    {
      "cell_type": "code",
      "metadata": {
        "id": "WEj803ieQ4Hn",
        "colab_type": "code",
        "outputId": "2e6444cb-ea76-4226-db2c-9ddec9c824eb",
        "colab": {
          "base_uri": "https://localhost:8080/",
          "height": 52
        }
      },
      "source": [
        "#!ls\n",
        "#!ls '/content/drive/My Drive/aiapp/test_data_01'\n",
        "#!ls '/content/drive/My Drive/aiapp/test_data_01/sprit_data'\n",
        "\n",
        "#!rm /content/clover_sprit_data/*.jpg\n",
        "!ls /content/clover_sprit_data  \n",
        "!ls /content/clover_sprit_data/train\n"
      ],
      "execution_count": 0,
      "outputs": [
        {
          "output_type": "stream",
          "text": [
            "four  three  train  validation\n",
            "four  three\n"
          ],
          "name": "stdout"
        }
      ]
    },
    {
      "cell_type": "code",
      "metadata": {
        "id": "EerPhYHLMnog",
        "colab_type": "code",
        "colab": {}
      },
      "source": [
        ""
      ],
      "execution_count": 0,
      "outputs": []
    }
  ]
}